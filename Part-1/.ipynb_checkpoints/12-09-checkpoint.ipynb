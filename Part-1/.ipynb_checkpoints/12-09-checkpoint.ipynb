{
 "cells": [
  {
   "cell_type": "code",
   "execution_count": 15,
   "metadata": {},
   "outputs": [
    {
     "name": "stdout",
     "output_type": "stream",
     "text": [
      "78\n",
      "сто пудов делится на 2\n",
      "79  - а это нет\n"
     ]
    }
   ],
   "source": [
    "import math\n",
    "a = int(input())\n",
    "if a % 2 == 1:\n",
    "    print (\"сверху вроде нечетное\")\n",
    "    a *= 2\n",
    "    print(a, '- а это четное')\n",
    "else:\n",
    "    print (\"сто пудов делится на 2\")\n",
    "    a += 1\n",
    "    print(a, \" - а это нет\")"
   ]
  }
 ],
 "metadata": {
  "kernelspec": {
   "display_name": "Python 3",
   "language": "python",
   "name": "python3"
  },
  "language_info": {
   "codemirror_mode": {
    "name": "ipython",
    "version": 3
   },
   "file_extension": ".py",
   "mimetype": "text/x-python",
   "name": "python",
   "nbconvert_exporter": "python",
   "pygments_lexer": "ipython3",
   "version": "3.7.3"
  }
 },
 "nbformat": 4,
 "nbformat_minor": 2
}
