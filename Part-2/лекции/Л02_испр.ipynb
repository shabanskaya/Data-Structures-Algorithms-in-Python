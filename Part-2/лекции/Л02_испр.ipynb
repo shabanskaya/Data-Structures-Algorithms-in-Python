{
 "cells": [
  {
   "cell_type": "code",
   "execution_count": null,
   "metadata": {},
   "outputs": [],
   "source": [
    "#коллизия - разным данным соспоставили один и тот же хэш (аййай)\n",
    "#h(s1, s2, s3 , s4) = h(s1, s2, s3)b + code(s4)\n",
    "#code - ascii or alphabet or my own invention\n",
    "#base - любое положит число (b)\n",
    "#1. «Хеш-код» как остаток от деления на число всех возможных «хешей», гланое не стпеень двойки\n"
   ]
  },
  {
   "cell_type": "code",
   "execution_count": null,
   "metadata": {},
   "outputs": [],
   "source": [
    "# полиномиальный хэш\n",
    "# функция хэширования, прин на вход строку из мал лат букв => 37, получим неогр число \n",
    "b = 37\n",
    "\n",
    "def code(c):\n",
    "    return ord(c) - ord(\"a\") + 1    #ord po ascii ot 0 do 127\n",
    "\n",
    "def poly_hash (s):\n",
    "    h=0\n",
    "    for c in s:\n",
    "        h = h*b + code(c)\n",
    "    return h\n",
    "\n",
    "if __name__ == \"__main__\":\n",
    "    s = input()\n",
    "    print(poly_hash(s))\n"
   ]
  },
  {
   "cell_type": "code",
   "execution_count": 2,
   "metadata": {},
   "outputs": [
    {
     "name": "stdout",
     "output_type": "stream",
     "text": [
      "kmdfwokrf\n",
      "39882111246467\n"
     ]
    }
   ],
   "source": [
    "# полиномиальный хэш 2 - ограниченный\n",
    "# функция хэширования, прин на вход строку из мал лат букв => 37, получим неогр число \n",
    "b = 37\n",
    "M = (1 << 64) - 1 #это 2 в 64ой\n",
    "def code(c):\n",
    "    return ord(c) - ord(\"a\") + 1    #ord po ascii ot 0 do 127\n",
    "\n",
    "def poly_hash (s): #отсюда недописанно\n",
    "    h=0\n",
    "    for c in s:\n",
    "        h = (h*b + code(c)) % M\n",
    "    return h\n",
    "\n",
    "if __name__ == \"__main__\":\n",
    "    s = input()\n",
    "    print(poly_hash(s))\n"
   ]
  },
  {
   "cell_type": "code",
   "execution_count": 2,
   "metadata": {},
   "outputs": [
    {
     "name": "stdout",
     "output_type": "stream",
     "text": [
      "abdfabdfbabfb\n",
      "ab\n",
      "0\n",
      "4\n",
      "9\n"
     ]
    }
   ],
   "source": [
    "#найти вхождения Т в строку С\n",
    "\"\"\"алгоритм рабина-карпа \n",
    "1. считаем хеш для Т и для всех префиксов С  \n",
    "2. считаем хеш от подстроки С длины Т\n",
    "3. ну че-т еще\n",
    "h(si, ..si+n-1) = ci*b^n-1 +...+ ci+n-1*b^0 - считать стало быстрее, так как мы пользуемся уже посчит\n",
    "\"\"\"\n",
    "\n",
    "b = 37\n",
    "M = (1 << 64) - 1 #это 2 в 64ой\n",
    "\n",
    "def code(c):\n",
    "    return ord(c) - ord(\"a\") + 1    #ord po ascii ot 0 do 127\n",
    "\n",
    "def poly_hash (s):    #возвр массив ххешей, от длины ноль\n",
    "    h=[0]\n",
    "    for c in s:\n",
    "        h.append((h[-1]*b + code(c))%M) \n",
    "    return h\n",
    "\n",
    "if __name__ == \"__main__\":\n",
    "    s = input()\n",
    "    t = input()\n",
    "    n = len(t)\n",
    "    m = len(s)\n",
    "    s = poly_hash(s)\n",
    "    t = poly_hash(t)[-1]\n",
    "    for i in range(m - n + 1):\n",
    "        if t == ((s[i + n] - s[i] * b**n) % M): #можно хранить также степени b\n",
    "            print(i)\n"
   ]
  },
  {
   "cell_type": "code",
   "execution_count": null,
   "metadata": {},
   "outputs": [],
   "source": []
  },
  {
   "cell_type": "code",
   "execution_count": 1,
   "metadata": {},
   "outputs": [
    {
     "name": "stdout",
     "output_type": "stream",
     "text": [
      "add asd\n",
      "add asd\n",
      "asd is already in table\n",
      "add sdf\n",
      "add srt\n",
      "add asd\n",
      "asd is already in table\n",
      "exit\n"
     ]
    }
   ],
   "source": [
    "\"\"\"ассоциативный массив - структура данных, можно добавить/удалить/найти по ключу пару\n",
    "НАПРИМЕР хеш-таблица - его реализация (телефонная книга)\n",
    "нельзя создать таблицу для большого М иначе кончится оператива\n",
    "пожтому берем маленькое М\n",
    "\n",
    "но тогда коллизии \n",
    "можно брать большое М и ддополнительно делить на p - размер таблицы\n",
    "можно менять хеш таблицу при ее заполнении (нов созд - стар удалять)\n",
    "избужать кооллизий:\n",
    "1 Цепочки: будем хранить массив в каждой ячейке, (который может расширяться) (пара попала в одну ячейку, \n",
    "поэт теперь туда влезают два элеманта)\n",
    "2 \n",
    "\"\"\"\n",
    "\n",
    "\n",
    "b = 37\n",
    "M = (1 << 64) - 1 #это 2 в 64ой\n",
    "P = 10**5+7 #table size\n",
    "\n",
    "def code(c):\n",
    "    return ord(c) - ord(\"a\") + 1    #ord po ascii ot 0 do 127\n",
    "\n",
    "def poly_hash (s): #отсюда недописанно\n",
    "    h=0\n",
    "    for c in s:\n",
    "        h = (h*b + code(c)) % M\n",
    "    return h\n",
    "\n",
    "\n",
    "def get_pos(h):\n",
    "    return h%P #номер цепочки h это хеш\n",
    "\n",
    "def add(table, key):\n",
    "    h = poly_hash(key)\n",
    "    p = get_pos(h)\n",
    "    for e in table[p]:\n",
    "        if e[0] == h:\n",
    "            print(key, 'is already in table')\n",
    "            return\n",
    "    table[p].append([h, key])\n",
    "\n",
    "if __name__ == \"__main__\":\n",
    "    table = [[] for _ in range(P)]\n",
    "    while True:\n",
    "        cmd = input().split() #считываем команду доб или удал\n",
    "        if cmd[0] == \"exit\":\n",
    "            break\n",
    "        elif cmd[0] == 'add':\n",
    "            add(table, cmd[1])\n",
    "            \n",
    "#поиск - пробжаться по цепочке и найти нудный хеш"
   ]
  },
  {
   "cell_type": "code",
   "execution_count": null,
   "metadata": {},
   "outputs": [],
   "source": []
  },
  {
   "cell_type": "code",
   "execution_count": null,
   "metadata": {},
   "outputs": [],
   "source": []
  }
 ],
 "metadata": {
  "kernelspec": {
   "display_name": "Python 3",
   "language": "python",
   "name": "python3"
  },
  "language_info": {
   "codemirror_mode": {
    "name": "ipython",
    "version": 3
   },
   "file_extension": ".py",
   "mimetype": "text/x-python",
   "name": "python",
   "nbconvert_exporter": "python",
   "pygments_lexer": "ipython3",
   "version": "3.7.3"
  }
 },
 "nbformat": 4,
 "nbformat_minor": 2
}
