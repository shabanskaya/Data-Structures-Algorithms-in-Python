{
 "cells": [
  {
   "cell_type": "code",
   "execution_count": 6,
   "metadata": {},
   "outputs": [],
   "source": [
    "#коллизия - разным данным соспоставили один и тот же хэш (аййай)\n",
    "#h(s1, s2, s3 , s4) = h(s1, s2, s3)b + code(s4)\n",
    "#code - ascii or alphabet or my own invention\n",
    "#base - любое положит число (b)\n",
    "#1. «Хеш-код» как остаток от деления на число всех возможных «хешей», гланое не стпеень двойки\n"
   ]
  },
  {
   "cell_type": "code",
   "execution_count": 10,
   "metadata": {},
   "outputs": [
    {
     "name": "stdout",
     "output_type": "stream",
     "text": [
      "abc\n",
      "1446\n"
     ]
    }
   ],
   "source": [
    "# полиномиальный хэш\n",
    "# функция хэширования, прин на вход строку из мал лат букв => 37, получим неогр число \n",
    "b = 37\n",
    "\n",
    "def code(c):\n",
    "    return ord(c) - ord(\"a\") + 1    #ord po ascii ot 0 do 127\n",
    "\n",
    "def poly_hash (s):\n",
    "    h=0\n",
    "    for c in s:\n",
    "        h = h*b + code(c)\n",
    "    return h\n",
    "\n",
    "if __name__ == \"__main__\":\n",
    "    s = input()\n",
    "    print(poly_hash(s))\n"
   ]
  },
  {
   "cell_type": "code",
   "execution_count": 1,
   "metadata": {},
   "outputs": [
    {
     "name": "stdout",
     "output_type": "stream",
     "text": [
      "ifjnekjnv\n",
      "32208544369793\n"
     ]
    }
   ],
   "source": [
    "# полиномиальный хэш 2 - ограниченный\n",
    "# функция хэширования, прин на вход строку из мал лат букв => 37, получим неогр число \n",
    "b = 37\n",
    "M = (1 << 64) - 1 #это 2 в 64ой\n",
    "def code(c):\n",
    "    return ord(c) - ord(\"a\") + 1    #ord po ascii ot 0 do 127\n",
    "\n",
    "def poly_hash (s): #отсюда недописанно\n",
    "    h=0\n",
    "    for c in s:\n",
    "        h = (h*b + code(c)) % M\n",
    "    return h\n",
    "\n",
    "if __name__ == \"__main__\":\n",
    "    s = input()\n",
    "    print(poly_hash(s))\n"
   ]
  },
  {
   "cell_type": "code",
   "execution_count": 21,
   "metadata": {},
   "outputs": [
    {
     "name": "stdout",
     "output_type": "stream",
     "text": [
      "ppppppppppoppppppppoppppoppopppppo\n",
      "o\n",
      "10\n",
      "19\n",
      "24\n",
      "27\n",
      "33\n"
     ]
    }
   ],
   "source": [
    "#найти вхождения Т в строку С\n",
    "\"\"\"алгоритм рабина-карпа \n",
    "1. считаем хеш для Т и для всех префиксов С  \n",
    "2. считаем хеш от подстроки С длины Т\n",
    "3. ну че-т еще\n",
    "h(si, ..si+n-1) = ci*b^n-1 +...+ ci+n-1*b^0 - считать стало быстрее, так как мы пользуемся уже посчит\n",
    "\"\"\"\n",
    "\n",
    "b = 37\n",
    "M = (1 << 64) - 1 #это 2 в 64ой\n",
    "\n",
    "def code(c):\n",
    "    return ord(c) - ord(\"a\") + 1    #ord po ascii ot 0 do 127\n",
    "\n",
    "def poly_hash (s):    #возвр массив ххешей, от длины ноль\n",
    "    h=[0]\n",
    "    for c in s:\n",
    "        h.append((h[-1]*b + code(c))%M) \n",
    "    return h\n",
    "\n",
    "if __name__ == \"__main__\":\n",
    "    s = input()\n",
    "    t = input()\n",
    "    n = len(t)\n",
    "    m = len(s)\n",
    "    s = poly_hash(s)\n",
    "    t = poly_hash(t)[-1]\n",
    "    for i in range(m - n + 1):\n",
    "        if t == ((s[i + n] - s[i] * b**n) % M): #можно хранить также степени b\n",
    "            print(i)\n"
   ]
  },
  {
   "cell_type": "code",
   "execution_count": null,
   "metadata": {},
   "outputs": [],
   "source": [
    "\"\"\"ассоциативный массив - добав\"\"\""
   ]
  }
 ],
 "metadata": {
  "kernelspec": {
   "display_name": "Python 3",
   "language": "python",
   "name": "python3"
  },
  "language_info": {
   "codemirror_mode": {
    "name": "ipython",
    "version": 3
   },
   "file_extension": ".py",
   "mimetype": "text/x-python",
   "name": "python",
   "nbconvert_exporter": "python",
   "pygments_lexer": "ipython3",
   "version": "3.7.3"
  }
 },
 "nbformat": 4,
 "nbformat_minor": 2
}
