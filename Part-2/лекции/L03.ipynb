{
 "cells": [
  {
   "cell_type": "markdown",
   "metadata": {},
   "source": [
    "Data > func -> hash — ассоц. массивы\n",
    "---\n",
    "---\n",
    "`hash()` - питоновскаяя функция. НЕ детерм, между запусками программы резцльтаты будут разными, но в пределах одной программы - одинаковые.  \n",
    "Чтобы избегать коллизий. \n",
    "\n",
    "- Возвращает int. \n",
    "\n",
    "- Не бесконечный\n",
    "\n",
    "- НЕ применяется в спискам и множетсвам "
   ]
  },
  {
   "cell_type": "code",
   "execution_count": 21,
   "metadata": {},
   "outputs": [
    {
     "data": {
      "text/plain": [
       "4623473830872938971"
      ]
     },
     "execution_count": 21,
     "metadata": {},
     "output_type": "execute_result"
    }
   ],
   "source": [
    "hash(\"dfghnjk,l;\")\n"
   ]
  },
  {
   "cell_type": "markdown",
   "metadata": {},
   "source": [
    "__Ассоциативный массив__ - каждый ключ не более одного раза, поиск по ключу, добавить, удалить. </p>__Множество__ - только ключи, без дубликатов, не упорядрч! SET\n"
   ]
  },
  {
   "cell_type": "code",
   "execution_count": 22,
   "metadata": {},
   "outputs": [
    {
     "data": {
      "text/plain": [
       "{2, 3, 4, 5, 6}"
      ]
     },
     "execution_count": 22,
     "metadata": {},
     "output_type": "execute_result"
    }
   ],
   "source": [
    "{2, 4, 5, 6, 4, 3}"
   ]
  },
  {
   "cell_type": "code",
   "execution_count": 23,
   "metadata": {},
   "outputs": [
    {
     "data": {
      "text/plain": [
       "{'d', 'e', 'f', 'j', 'k', 'n', 'r', 'v'}"
      ]
     },
     "execution_count": 23,
     "metadata": {},
     "output_type": "execute_result"
    }
   ],
   "source": [
    "set('kjdnkejnfkvejnrv')"
   ]
  },
  {
   "cell_type": "code",
   "execution_count": 24,
   "metadata": {},
   "outputs": [
    {
     "data": {
      "text/plain": [
       "{0, 1, 2, 3}"
      ]
     },
     "execution_count": 24,
     "metadata": {},
     "output_type": "execute_result"
    }
   ],
   "source": [
    "set(range(4))"
   ]
  },
  {
   "cell_type": "markdown",
   "metadata": {},
   "source": [
    "set, {}, set() (empty), set(itterable), set comperhansions\n",
    "Можно создать сет, зафикс его, (дубликатов все еще нет, все еще не упорядочен), но можно будет хешировать! `hash(frozenset({1,4,5}))`"
   ]
  },
  {
   "cell_type": "code",
   "execution_count": 25,
   "metadata": {},
   "outputs": [
    {
     "data": {
      "text/plain": [
       "-4374755773717472044"
      ]
     },
     "execution_count": 25,
     "metadata": {},
     "output_type": "execute_result"
    }
   ],
   "source": [
    "hash(frozenset({1,4,5}))"
   ]
  },
  {
   "cell_type": "markdown",
   "metadata": {},
   "source": [
    "Операции с мн-вами:   \n",
    "---\n",
    "* | union, \n",
    "* & пересечение, \n",
    "* \\- разность, \n",
    "* ^ симм разнсть убирает то , что есть и там, и там\n",
    "* x in A принадлежность, \n",
    "* A<B мн-во в мн-ве\n",
    "* len(A) - мощность \n",
    "\n",
    "Frozenset · set -> Fr (*Получим то, что слева*)\n",
    "\n",
    "---\n"
   ]
  },
  {
   "cell_type": "code",
   "execution_count": 27,
   "metadata": {},
   "outputs": [
    {
     "data": {
      "text/plain": [
       "{1, 2, 4, 5}"
      ]
     },
     "execution_count": 27,
     "metadata": {},
     "output_type": "execute_result"
    }
   ],
   "source": [
    "{1, 4, 5}|{2,4,5}"
   ]
  },
  {
   "cell_type": "markdown",
   "metadata": {},
   "source": [
    "`b.remove`  \n",
    "`b.add` (не для фрозена)  \n"
   ]
  },
  {
   "cell_type": "code",
   "execution_count": 29,
   "metadata": {},
   "outputs": [
    {
     "name": "stdout",
     "output_type": "stream",
     "text": [
      "{17, 2, 1, 3, 4}\n"
     ]
    }
   ],
   "source": [
    "a = {1, 2, 3, 4}\n",
    "b = {2, 17}\n",
    "b |= a\n",
    "print(b)"
   ]
  },
  {
   "cell_type": "markdown",
   "metadata": {},
   "source": [
    "Словарь\n",
    "---\n",
    "Тоже асс массив  \n",
    "Изменяемый (без неизм аналога как у множетсв)  \n",
    "Ключи, как и в сете, не изменяемы, а значения могут меняться.\n",
    "\n",
    "---\n",
    "При\n",
    "`{}`  \n",
    "`dict()`  \n",
    "`{\"abc\": 7, \"an\": 14}`   \n",
    "`{key:value}`  \n",
    "`comperhansion: {i: j for i, j in zip([4, 6, 7], \"ddaf\")}`"
   ]
  },
  {
   "cell_type": "code",
   "execution_count": 31,
   "metadata": {},
   "outputs": [
    {
     "data": {
      "text/plain": [
       "{4: '432', '789': '5453'}"
      ]
     },
     "execution_count": 31,
     "metadata": {},
     "output_type": "execute_result"
    }
   ],
   "source": [
    "{4: '432', '789': \"5453\"}"
   ]
  },
  {
   "cell_type": "code",
   "execution_count": 34,
   "metadata": {},
   "outputs": [
    {
     "data": {
      "text/plain": [
       "{4: 'd', 6: 'd', 7: 'a'}"
      ]
     },
     "execution_count": 34,
     "metadata": {},
     "output_type": "execute_result"
    }
   ],
   "source": [
    "{i: j for i, j in zip([4, 6, 7], \"ddaf\")} # пробегает по паре объектов, (мин по длине задает длину)"
   ]
  },
  {
   "cell_type": "markdown",
   "metadata": {},
   "source": [
    "__Менять и обращаться:__\n",
    "по ключу, как с массиву по номеру  \n",
    "__Порядок__: начиная с питона 3.7 порядок LIFO\n"
   ]
  },
  {
   "cell_type": "code",
   "execution_count": 43,
   "metadata": {},
   "outputs": [
    {
     "name": "stdout",
     "output_type": "stream",
     "text": [
      "dict_keys([4, 6, 7])\n",
      "4\n",
      "6\n",
      "7\n"
     ]
    }
   ],
   "source": [
    "a = {i: j for i, j in zip([4, 6, 7], \"ddaf\")} #взяьб ключи\n",
    "\n",
    "print(a.keys())\n",
    "for e in a:\n",
    "    print(e)"
   ]
  },
  {
   "cell_type": "code",
   "execution_count": 46,
   "metadata": {},
   "outputs": [
    {
     "name": "stdout",
     "output_type": "stream",
     "text": [
      "lsdmvslknvj wiehfkweh wehf\n",
      "{'l': 2, 's': 2, 'd': 1, 'm': 1, 'v': 2, 'k': 2, 'n': 1, 'j': 1, ' ': 2, 'w': 3, 'i': 1, 'e': 3, 'h': 3, 'f': 2}\n"
     ]
    }
   ],
   "source": [
    "t = input() #обработка текста\n",
    "d = {}\n",
    "for c in t:\n",
    "    if c not in d: #считаем соклько каких символов\n",
    "        d[c] = 1\n",
    "    else:\n",
    "        d[c]+=1\n",
    "print(d)"
   ]
  },
  {
   "cell_type": "code",
   "execution_count": 47,
   "metadata": {},
   "outputs": [
    {
     "name": "stdout",
     "output_type": "stream",
     "text": [
      "вдлдалк\n",
      "{'в': 1, 'д': 2, 'л': 2, 'а': 1, 'к': 1}\n"
     ]
    }
   ],
   "source": [
    "t = input() #обработка текста 2 \n",
    "d = {}\n",
    "for c in t:\n",
    "    d[c] = d.get(c, 0) + 1 #get возвращает то , что хравится по ключу с - иначе NOne, но мы хотим не None, а ноль\n",
    "print(d)"
   ]
  },
  {
   "cell_type": "code",
   "execution_count": 53,
   "metadata": {},
   "outputs": [
    {
     "name": "stdout",
     "output_type": "stream",
     "text": [
      "lkjhgfghj;lkjhghjk\n",
      "defaultdict(<class 'int'>, {'l': 2, 'k': 3, 'j': 4, 'h': 4, 'g': 3, 'f': 1, ';': 1})\n"
     ]
    }
   ],
   "source": [
    "from collections import defaultdict #defaultdict использует указанную функцию\n",
    "t = input() #обработка текста 3, словарь по умолчанию\n",
    "d = defaultdict(int)\n",
    "\n",
    "for c in t:\n",
    "    d[c] += 1\n",
    "print(d)"
   ]
  },
  {
   "cell_type": "code",
   "execution_count": 52,
   "metadata": {
    "scrolled": true
   },
   "outputs": [],
   "source": [
    "from collections import OrderedDict #defaultdict использует указанную функцию - удаление с произвольного места работает быстрее\n"
   ]
  }
 ],
 "metadata": {
  "kernelspec": {
   "display_name": "Python 3",
   "language": "python",
   "name": "python3"
  },
  "language_info": {
   "codemirror_mode": {
    "name": "ipython",
    "version": 3
   },
   "file_extension": ".py",
   "mimetype": "text/x-python",
   "name": "python",
   "nbconvert_exporter": "python",
   "pygments_lexer": "ipython3",
   "version": "3.7.3"
  }
 },
 "nbformat": 4,
 "nbformat_minor": 2
}
