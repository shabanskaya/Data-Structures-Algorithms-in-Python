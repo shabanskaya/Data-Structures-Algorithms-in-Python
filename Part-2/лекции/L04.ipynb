{
 "cells": [
  {
   "cell_type": "markdown",
   "metadata": {},
   "source": [
    "## Кортеж (tuple) - неизменяемый массив\n",
    "- можно иттерироваться\n",
    "- можно обращаться по номеру\n",
    "- сложение да (но получается новый объект)\n",
    "- добавление нельзя\n",
    "- защита данных от  записи\n",
    "- кортеж из одного элемента - обязательно запятая после элемента\n",
    "- функция `tuple()`: подставлять можно строку, множество, ..\n",
    "- хеширование есть , поэтому можно использовать его как ключ"
   ]
  },
  {
   "cell_type": "code",
   "execution_count": 3,
   "metadata": {},
   "outputs": [
    {
     "name": "stdout",
     "output_type": "stream",
     "text": [
      "4\n",
      "9\n",
      "10\n",
      "(4, 4, 4, 4, 4, 4, 4, 4)\n"
     ]
    }
   ],
   "source": [
    "a = (4, 5)\n",
    "print(a[0])\n",
    "for i in a:\n",
    "    print(i+5)\n",
    "print((4,) * 8)"
   ]
  },
  {
   "cell_type": "code",
   "execution_count": 6,
   "metadata": {},
   "outputs": [
    {
     "name": "stdout",
     "output_type": "stream",
     "text": [
      "(40, 64)\n"
     ]
    }
   ],
   "source": [
    "def f(x):\n",
    "    return x*5, x*x #по дефолту тут кортеж\n",
    "a = f(8) \n",
    "print(a)\n"
   ]
  },
  {
   "cell_type": "markdown",
   "metadata": {},
   "source": [
    "## Namedtuple\n",
    "Например, объект с двумя именованными элементами – не нужно помниить порядок, дост имен"
   ]
  },
  {
   "cell_type": "code",
   "execution_count": 7,
   "metadata": {},
   "outputs": [],
   "source": [
    "from collections import namedtuple\n"
   ]
  },
  {
   "cell_type": "markdown",
   "metadata": {},
   "source": [
    "## Связные списки\n",
    "- элементы в памяти хранятся последовательно в порядке (содержат указатели друг на друга)\n",
    "- можно реализовать стек, очередь, двураправленную очередь, ассоциативные массивы\n",
    "\n",
    "### Односвязыне списки:\n",
    "- Содержат значение + указатель на следующий (Tail - послдений - хранит указатель на None)  \n",
    "- Время при переходах порядка линиии  \n",
    "- __Добавить элемент__ в начало - о(1) - доб указ + перевесить head  \n",
    "- Доб в конец - о(1) или о(линии) - зависит от того, есть ли ссылка"
   ]
  },
  {
   "cell_type": "code",
   "execution_count": 10,
   "metadata": {},
   "outputs": [],
   "source": [
    "#реализуем добавление в произвольное место с использованием словарей\n",
    "\n",
    "def get_node(v):\n",
    "    return {'value': v, 'next': None}\n",
    "\n",
    "def insert_front(head, value): #возвр указ на начало списка\n",
    "    tmp = get_node(value)\n",
    "    tmp[\"next\"] = head\n",
    "    return tmp\n",
    "\n",
    "def insert(head, pos, value):\n",
    "    if pos == 0:\n",
    "        return insert_front(head, value)\n",
    "    if head is None:\n",
    "        print(\"Index is out of range\")\n",
    "        return head                    \n",
    "    i = 0\n",
    "    cur = head\n",
    "    while i != pos - 1:\n",
    "        if cur[\"next\"] is None:\n",
    "            print(\"Index is out of range\")\n",
    "            return head\n",
    "        cur = cur[\"next\"]\n",
    "        i += 1\n",
    "    tmp = get_node(value)\n",
    "    tmp[\"next\"] = cur[\"next\"]\n",
    "    cur[\"next\"]  = tmp\n",
    "    return head\n",
    "\n",
    "def delete(head, pos):\n",
    "    if head == None:\n",
    "        print(\"Index is out of range\")\n",
    "        return head\n",
    "    if pos == 0:\n",
    "        return head[\"next\"]\n",
    "    i = 0\n",
    "    cur = head\n",
    "    while i != pos - 1:\n",
    "        if cur[\"next\"] is None:\n",
    "            print(\"Index is out of range\")\n",
    "            return head\n",
    "        cur = cur[\"next\"]\n",
    "        i += 1\n",
    "    cur[\"next\"] = cur[\"next\"][\"next\"]\n",
    "    return head\n",
    "\n",
    "def print_list(head):\n",
    "    cur = head\n",
    "    while cur is not None:\n",
    "        print(cur[\"value\"], end = ' ')\n",
    "        cur = cue[\"next\"]\n",
    "    print()\n",
    "    \n"
   ]
  },
  {
   "cell_type": "markdown",
   "metadata": {},
   "source": [
    "### Двусвязный список \n",
    "- содержит значение + 2 ссылки (вперед и назад)\n",
    "- операция удаления из начала не поменялась, но опреация удаления из конца теперь тоже работает за о(1)\n",
    "- Добавление с произвольное - о(линии)\n",
    "- Удаление из начала такое же\n",
    "- Из конца теперь как из начала\n",
    "- Из произвольного места: ищем и-ое место, меняем ссылки"
   ]
  },
  {
   "cell_type": "code",
   "execution_count": 12,
   "metadata": {},
   "outputs": [],
   "source": [
    "def get_node(v):\n",
    "    return {'value': v, 'next': None, 'prev': None}\n",
    "\n",
    "def insert_front(head, value): #возвр указ на начало списка\n",
    "    tmp = get_node(value)\n",
    "    tmp[\"next\"] = head\n",
    "    if head is not None:\n",
    "        head[\"prev\"] = tmp\n",
    "    return tmp\n",
    "\n",
    "\n",
    "def insert(head, pos, value):\n",
    "    if pos == 0:\n",
    "        return insert_front(head, value)\n",
    "    if head is None:\n",
    "        print(\"Index is out of range\")\n",
    "        return head                    \n",
    "    i = 0\n",
    "    cur = head\n",
    "    while i != pos - 1:\n",
    "        if cur[\"next\"] is None:\n",
    "            print(\"Index is out of range\")\n",
    "            return head\n",
    "        cur = cur[\"next\"]\n",
    "        i += 1\n",
    "    tmp = get_node(value)\n",
    "    tmp[\"next\"] = cur[\"next\"]\n",
    "    tmp[\"prev\"] = cur\n",
    "    if cur[\"next\"] is not None: # исправлено\n",
    "        cur[\"next\"][\"prev\"] = tmp\n",
    "    cur[\"next\"]  = tmp\n",
    "    return head\n",
    "\n",
    "\n",
    "def delete(head, pos):\n",
    "    if head == None:\n",
    "        print(\"Index is out of range\")\n",
    "        return head\n",
    "    if pos == 0:\n",
    "        if head[\"next\"] is not None:\n",
    "            head[\"next\"][\"prev\"] = None\n",
    "        return head[\"next\"]\n",
    "    \n",
    "    i = 0\n",
    "    cur = head\n",
    "    while i != pos:\n",
    "        if cur[\"next\"] is None:\n",
    "            print(\"Index is out of range\")\n",
    "            return head\n",
    "        cur = cur[\"next\"]\n",
    "        i += 1\n",
    "    cur[\"prev\"][\"next\"] = cur[\"next\"]\n",
    "    if cur[\"next\"] is not None:\n",
    "        cur[\"next\"][\"prev\"] = cur[\"prev\"]\n",
    "    return head\n",
    "\n",
    "\n",
    "def print_list(head):\n",
    "    cur = head\n",
    "    while cur is not None:\n",
    "        print(cur[\"value\"], end = ' ')\n",
    "        cur = cur[\"next\"]\n",
    "    print()\n",
    "    \n"
   ]
  },
  {
   "cell_type": "markdown",
   "metadata": {},
   "source": [
    "### Кольцевые списки\n"
   ]
  },
  {
   "cell_type": "code",
   "execution_count": null,
   "metadata": {},
   "outputs": [],
   "source": []
  }
 ],
 "metadata": {
  "kernelspec": {
   "display_name": "Python 3",
   "language": "python",
   "name": "python3"
  },
  "language_info": {
   "codemirror_mode": {
    "name": "ipython",
    "version": 3
   },
   "file_extension": ".py",
   "mimetype": "text/x-python",
   "name": "python",
   "nbconvert_exporter": "python",
   "pygments_lexer": "ipython3",
   "version": "3.7.3"
  }
 },
 "nbformat": 4,
 "nbformat_minor": 2
}
