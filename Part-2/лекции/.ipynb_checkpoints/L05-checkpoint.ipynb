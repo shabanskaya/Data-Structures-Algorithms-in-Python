{
 "cells": [
  {
   "cell_type": "markdown",
   "metadata": {},
   "source": [
    "### Queues\n",
    " - stack - можно брать только \"верхний\" элем\n",
    " - реализуется односвязным списков\n"
   ]
  },
  {
   "cell_type": "code",
   "execution_count": null,
   "metadata": {},
   "outputs": [],
   "source": [
    "def get_node(v):\n",
    "    return {'value': v, 'next': None}\n",
    "\n",
    "def insert_front(head, value): #возвр указ на начало списка\n",
    "    tmp = get_node(value)\n",
    "    tmp[\"next\"] = head\n",
    "    return tmp\n",
    "\n",
    "def delete_front(head):\n",
    "    if head is None:\n",
    "        print(\"Empty\")\n",
    "        return None, None\n",
    "    return head[\"next\"], head[\"value\"] \n",
    "    \n",
    "\"\"\"def insert(head, pos, value):\n",
    "    if pos == 0:\n",
    "        return insert_front(head, value)\n",
    "    if head is None:\n",
    "        print(\"Index is out of range\")\n",
    "        return head                    \n",
    "    i = 0\n",
    "    cur = head\n",
    "    while i != pos - 1:\n",
    "        if cur[\"next\"] is None:\n",
    "            print(\"Index is out of range\")\n",
    "            return head\n",
    "        cur = cur[\"next\"]\n",
    "        i += 1\n",
    "    tmp = get_node(value)\n",
    "    tmp[\"next\"] = cur[\"next\"]\n",
    "    cur[\"next\"]  = tmp\n",
    "    return head\n",
    "\n",
    "def delete(head, pos):\n",
    "    if head == None:\n",
    "        print(\"Index is out of range\")\n",
    "        return head\n",
    "    if pos == 0:\n",
    "        return head[\"next\"]\n",
    "    i = 0\n",
    "    cur = head\n",
    "    while i != pos - 1:\n",
    "        if cur[\"next\"] is None:\n",
    "            print(\"Index is out of range\")\n",
    "            return head\n",
    "        cur = cur[\"next\"]\n",
    "        i += 1\n",
    "    cur[\"next\"] = cur[\"next\"][\"next\"]\n",
    "    return head\"\"\"\n",
    "\n",
    "def print_list(head):\n",
    "    cur = head\n",
    "    while cur is not None:\n",
    "        print(cur[\"value\"], end = ' ')\n",
    "        cur = cue[\"next\"]\n",
    "    print()"
   ]
  },
  {
   "cell_type": "code",
   "execution_count": null,
   "metadata": {},
   "outputs": [],
   "source": [
    "head = None\n",
    "s = input()\n",
    "for c in s:\n",
    "     if c == \"(\" or c == \"[\":\n",
    "            head = ll.insert_front(head, c)\n",
    "        else:\n",
    "            head, v = ll.delete_front(head)\n",
    "            if v is None:\n",
    "                print(\"No\")\n",
    "                break\n",
    "            elif (v ==\"[\" and c ==\")\") or (v == \"]\" and c == \"(\"):\n",
    "                print(\"Yes\")\n",
    "    else:\n",
    "        if head is None:\n",
    "            print(\"Yes\")\n",
    "        else:\n",
    "             print(\"No\")\n",
    "                \n",
    "                "
   ]
  },
  {
   "cell_type": "markdown",
   "metadata": {},
   "source": [
    "- Очередь\n",
    "- Добавить в конец (un(de)queue), (peek)\n"
   ]
  },
  {
   "cell_type": "code",
   "execution_count": 1,
   "metadata": {},
   "outputs": [],
   "source": [
    "def get_node(v):\n",
    "    return {'value': v, 'next': None}\n",
    "\n",
    "def insert_front(head, value): #возвр указ на начало списка\n",
    "    tmp = get_node(value)\n",
    "    tmp[\"next\"] = head\n",
    "    return tmp\n",
    "\n",
    "def push_back(head, tail, value):\n",
    "    tmp = get_node(value)\n",
    "    if head is None:\n",
    "        return tmp, tmp\n",
    "    tail['next'] = tmp\n",
    "    return head, tmp\n",
    "\n",
    "def delete_front(head, tail):\n",
    "    if head is None:\n",
    "        return None, None, None\n",
    "    if id(head) == id(tail):\n",
    "        return None, None, head[\"value\"]\n",
    "    return head[\"next\"], tail, head[\"value\"]\n",
    "\n"
   ]
  },
  {
   "cell_type": "markdown",
   "metadata": {},
   "source": [
    "- Deque -очередь с двумя направлениями\n",
    "- Реализация двусвязными списками \n",
    "- Добавл, удаление, показать элем, длина"
   ]
  },
  {
   "cell_type": "code",
   "execution_count": 4,
   "metadata": {},
   "outputs": [],
   "source": [
    "def get_node(v):\n",
    "    return {'value': v, 'next': None}\n",
    "\n",
    "def insert_front(head, tail, value): #возвр указ на начало списка\n",
    "    tmp = get_node(value)\n",
    "    tmp[\"next\"] = head\n",
    "    if head is not None:\n",
    "        return tmp, tmp\n",
    "    tmp[\"next\"] = head\n",
    "    head[\"prev\"] = tmp\n",
    "    return tmp, tail\n",
    "\n",
    "def insert_back(head, tail, value):\n",
    "        tmp = get_node(value)\n",
    "        if haed is None:\n",
    "            return tmp, tmp\n",
    "        tmp[\"prev\"] = tail\n",
    "        tail[\"next\"] = tmp\n",
    "        \n",
    "def delete_front(head, tail):\n",
    "    if head is None:\n",
    "        return NOne, None, None\n",
    "    if id(head) == id(tail):\n",
    "        return None, None, head[\"value\"]\n",
    "    tail[\"next\"][\"prev\"] = None\n",
    "    return head[\"next\"], tail, head[\"value\"]\n",
    "\n",
    "\n",
    "#см фото код для удалений и довалений\n",
    "        "
   ]
  },
  {
   "cell_type": "markdown",
   "metadata": {},
   "source": [
    "- list - stack\n",
    "- queue, deque - collections deque"
   ]
  },
  {
   "cell_type": "code",
   "execution_count": null,
   "metadata": {},
   "outputs": [],
   "source": [
    "4\n",
    "1 1\n"
   ]
  }
 ],
 "metadata": {
  "kernelspec": {
   "display_name": "Python 3",
   "language": "python",
   "name": "python3"
  },
  "language_info": {
   "codemirror_mode": {
    "name": "ipython",
    "version": 3
   },
   "file_extension": ".py",
   "mimetype": "text/x-python",
   "name": "python",
   "nbconvert_exporter": "python",
   "pygments_lexer": "ipython3",
   "version": "3.7.3"
  }
 },
 "nbformat": 4,
 "nbformat_minor": 2
}
