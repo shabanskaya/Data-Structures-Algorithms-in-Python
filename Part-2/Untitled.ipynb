{
 "cells": [
  {
   "cell_type": "code",
   "execution_count": 14,
   "metadata": {},
   "outputs": [
    {
     "name": "stdout",
     "output_type": "stream",
     "text": [
      "1 1 1\n",
      "1 1 1\n",
      "YES\n"
     ]
    }
   ],
   "source": [
    "def perese(r, r1, r2):\n",
    "    if max(r, r1, r2) > r1 + r2 + r - max(r, r1, r2):\n",
    "        return False\n",
    "    return True\n",
    "\n",
    "a = list(map(int, input().split()))\n",
    "b = list(map(int, input().split()))\n",
    "x1 = a[0]\n",
    "y1 = a[1]\n",
    "r1 = a[2]\n",
    "x2 = b[0]\n",
    "y2 = b[1]\n",
    "r2 = b[2]\n",
    "r = ((x1-x2)**2+(y1-y2)**2)**0.5\n",
    "\n",
    "if perese(r, r1, r2):\n",
    "    print('YES')\n",
    "else:\n",
    "    print('NO')"
   ]
  },
  {
   "cell_type": "code",
   "execution_count": null,
   "metadata": {},
   "outputs": [],
   "source": []
  }
 ],
 "metadata": {
  "kernelspec": {
   "display_name": "Python 3",
   "language": "python",
   "name": "python3"
  },
  "language_info": {
   "codemirror_mode": {
    "name": "ipython",
    "version": 3
   },
   "file_extension": ".py",
   "mimetype": "text/x-python",
   "name": "python",
   "nbconvert_exporter": "python",
   "pygments_lexer": "ipython3",
   "version": "3.7.3"
  }
 },
 "nbformat": 4,
 "nbformat_minor": 2
}
