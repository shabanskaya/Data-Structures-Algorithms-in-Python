{
 "cells": [
  {
   "cell_type": "markdown",
   "metadata": {},
   "source": [
    "# NumPy\n",
    "[Библиотека](https://numpy.org) для работы с массивами произвольной размерности (N-dimensional array или `ndarray`) и линейной алгебры над ними.\n",
    "\n",
    "Рекомендуемое ядро для запуска кода: `Python v3.7` или выше."
   ]
  },
  {
   "cell_type": "code",
   "execution_count": 13,
   "metadata": {},
   "outputs": [
    {
     "name": "stdout",
     "output_type": "stream",
     "text": [
      "Пример работы функции 'to_data_dir': class_data/test.file\n"
     ]
    }
   ],
   "source": [
    "from os import mkdir\n",
    "from os.path import isdir, join as join_path\n",
    "from functools import partial\n",
    "from warnings import filterwarnings\n",
    "\n",
    "import numpy as np\n",
    "\n",
    "\n",
    "filterwarnings('ignore')\n",
    "\n",
    "DATA_DIR = 'class_data/'  # Папка, куда мы будем сохранять все файлы\n",
    "if not isdir(DATA_DIR):\n",
    "    mkdir(DATA_DIR)\n",
    "\n",
    "to_data_dir = partial(join_path, DATA_DIR)\n",
    "print(f'Пример работы функции \\'to_data_dir\\': {to_data_dir(\"test.file\")}')"
   ]
  },
  {
   "cell_type": "markdown",
   "metadata": {},
   "source": [
    "## Инициализация\n",
    "### Одномерные массивы (векторы)\n",
    "#### Можно получить из `list`"
   ]
  },
  {
   "cell_type": "code",
   "execution_count": 14,
   "metadata": {},
   "outputs": [
    {
     "name": "stdout",
     "output_type": "stream",
     "text": [
      "[2 3 4]\n"
     ]
    }
   ],
   "source": [
    "arr = np.array([2, 3, 4])\n",
    "print(arr)"
   ]
  },
  {
   "cell_type": "markdown",
   "metadata": {},
   "source": [
    "#### Можно получить из `tuple`\n",
    "\n",
    "Результат &mdash; тот же!"
   ]
  },
  {
   "cell_type": "code",
   "execution_count": 15,
   "metadata": {},
   "outputs": [
    {
     "name": "stdout",
     "output_type": "stream",
     "text": [
      "[2 3 4]\n"
     ]
    }
   ],
   "source": [
    "arr = np.array((2, 3, 4))\n",
    "print(arr)"
   ]
  },
  {
   "cell_type": "markdown",
   "metadata": {},
   "source": [
    "#### Можно получить из `range`"
   ]
  },
  {
   "cell_type": "code",
   "execution_count": 16,
   "metadata": {},
   "outputs": [
    {
     "name": "stdout",
     "output_type": "stream",
     "text": [
      "[2 3 4]\n"
     ]
    }
   ],
   "source": [
    "arr = np.array(range(2, 5))\n",
    "print(arr)"
   ]
  },
  {
   "cell_type": "code",
   "execution_count": 17,
   "metadata": {},
   "outputs": [
    {
     "name": "stdout",
     "output_type": "stream",
     "text": [
      "[2 3 4]\n"
     ]
    }
   ],
   "source": [
    "arr = np.arange(2, 5)  # То же самое, но чуточку быстрее\n",
    "print(arr)"
   ]
  },
  {
   "cell_type": "markdown",
   "metadata": {},
   "source": [
    "#### Да хоть из произвольного итерируемого объекта!"
   ]
  },
  {
   "cell_type": "code",
   "execution_count": 18,
   "metadata": {},
   "outputs": [
    {
     "name": "stdout",
     "output_type": "stream",
     "text": [
      "[2 3 4]\n"
     ]
    }
   ],
   "source": [
    "arr = np.fromiter(range(2, 5), dtype=int)\n",
    "print(arr)"
   ]
  },
  {
   "cell_type": "markdown",
   "metadata": {},
   "source": [
    "А зачем нужен `dtype` &mdash; поговорим потом"
   ]
  },
  {
   "cell_type": "code",
   "execution_count": 19,
   "metadata": {},
   "outputs": [
    {
     "name": "stdout",
     "output_type": "stream",
     "text": [
      "[2 3 4]\n"
     ]
    }
   ],
   "source": [
    "arr = np.fromiter([2, 3, 4], dtype=int)\n",
    "print(arr)"
   ]
  },
  {
   "cell_type": "code",
   "execution_count": 20,
   "metadata": {},
   "outputs": [
    {
     "name": "stdout",
     "output_type": "stream",
     "text": [
      "[ 4  9 16]\n"
     ]
    }
   ],
   "source": [
    "def from_2_to_4():\n",
    "    for i in range(2, 5):\n",
    "        yield i ** 2   # Ленивое вычисление квадратов 2-х, 3-х и 4-х\n",
    "                       # Медленный аналог map(lambda x: x ** 2, range(2, 5))\n",
    "\n",
    "\n",
    "arr = np.fromiter(from_2_to_4(), dtype=int)\n",
    "print(arr)"
   ]
  },
  {
   "cell_type": "code",
   "execution_count": 21,
   "metadata": {},
   "outputs": [
    {
     "name": "stdout",
     "output_type": "stream",
     "text": [
      "[ 0  2  4  6  8 10]\n"
     ]
    }
   ],
   "source": [
    "# Все чётные от 0 до 10\n",
    "arr = np.fromiter((i for i in range(0, 11) if i % 2 == 0), dtype=int)\n",
    "print(arr)"
   ]
  },
  {
   "cell_type": "code",
   "execution_count": 22,
   "metadata": {},
   "outputs": [
    {
     "name": "stdout",
     "output_type": "stream",
     "text": [
      "[ 0  2  4  6  8 10]\n"
     ]
    }
   ],
   "source": [
    "# То же самое\n",
    "arr = np.fromiter(\n",
    "    filter(lambda x: x % 2 == 0, range(0, 11)),\n",
    "    dtype=int\n",
    ")\n",
    "print(arr)"
   ]
  },
  {
   "cell_type": "code",
   "execution_count": 23,
   "metadata": {},
   "outputs": [
    {
     "name": "stdout",
     "output_type": "stream",
     "text": [
      "[0.   0.75 1.5  2.25 3.  ]\n"
     ]
    }
   ],
   "source": [
    "print(\n",
    "    np.linspace(0, 3, 5)\n",
    ")  # 5 значений на равном удалении между 0 и 3"
   ]
  },
  {
   "cell_type": "code",
   "execution_count": 24,
   "metadata": {},
   "outputs": [
    {
     "name": "stdout",
     "output_type": "stream",
     "text": [
      "[   1.            5.62341325   31.6227766   177.827941   1000.        ]\n"
     ]
    }
   ],
   "source": [
    "print(\n",
    "    np.logspace(0, 3, 5)\n",
    ")  # то же самое, только в логарифмическом масштабе"
   ]
  },
  {
   "cell_type": "code",
   "execution_count": 25,
   "metadata": {},
   "outputs": [
    {
     "data": {
      "text/plain": [
       "[array([ 32, 332,  32]), array([   32, -2332,   435]), array([3])]"
      ]
     },
     "execution_count": 25,
     "metadata": {},
     "output_type": "execute_result"
    }
   ],
   "source": [
    "arr = np.array([32, 332, 32, 32, -2332, 435, 3])\n",
    "\n",
    "np.hsplit(arr, (3, 6))  # Расщепление массива в позициях 3 и 6"
   ]
  },
  {
   "cell_type": "markdown",
   "metadata": {},
   "source": [
    "#### Также можно считать из файла"
   ]
  },
  {
   "cell_type": "code",
   "execution_count": 26,
   "metadata": {},
   "outputs": [
    {
     "name": "stdout",
     "output_type": "stream",
     "text": [
      "[2 3 4]\n"
     ]
    }
   ],
   "source": [
    "file_content = '2 3 4'                        # 2, 3, 4 через пробел\n",
    "with open(to_data_dir('temp_arr.txt'), 'w') as out:\n",
    "    out.write(file_content)\n",
    "\n",
    "arr = np.loadtxt(to_data_dir('temp_arr.txt'), dtype=int)\n",
    "print(arr)"
   ]
  },
  {
   "cell_type": "code",
   "execution_count": 27,
   "metadata": {},
   "outputs": [
    {
     "name": "stdout",
     "output_type": "stream",
     "text": [
      "[2 3 4]\n"
     ]
    }
   ],
   "source": [
    "file_content = '\\n'.join('234')               # 2, 3, 4 все на новой строке\n",
    "with open(to_data_dir('temp_arr.txt'), 'w') as out:\n",
    "    out.write(file_content)\n",
    "\n",
    "arr = np.loadtxt(to_data_dir('temp_arr.txt'), dtype=int)\n",
    "print(arr)                                   # То же самое!"
   ]
  },
  {
   "cell_type": "code",
   "execution_count": 28,
   "metadata": {},
   "outputs": [
    {
     "name": "stdout",
     "output_type": "stream",
     "text": [
      "['First_string' 'Second_string' '3rd_string']\n",
      "Тип элементов массива: <U13\n"
     ]
    }
   ],
   "source": [
    "file_content = '\\n'.join(('First_string', 'Second_string', '3rd_string'))\n",
    "with open(to_data_dir('temp_arr.txt'), 'w') as out:\n",
    "    out.write(file_content)\n",
    "\n",
    "arr = np.loadtxt(to_data_dir('temp_arr.txt'), dtype=str)\n",
    "print(arr)\n",
    "print(f'Тип элементов массива: {arr.dtype}')"
   ]
  },
  {
   "cell_type": "markdown",
   "metadata": {},
   "source": [
    "Этот тип означает *строку размера не более 13 символов*."
   ]
  },
  {
   "cell_type": "markdown",
   "metadata": {},
   "source": [
    "#### Можно и сохранить в файл"
   ]
  },
  {
   "cell_type": "code",
   "execution_count": 29,
   "metadata": {},
   "outputs": [
    {
     "name": "stdout",
     "output_type": "stream",
     "text": [
      "integer_array.tsv\n",
      "\n",
      "1\t2\t3\n",
      "4\t5\t6\n",
      "\n"
     ]
    }
   ],
   "source": [
    "arr = np.array(\n",
    "    [[1, 2, 3],\n",
    "     [4, 5, 6]]\n",
    ")\n",
    "\n",
    "cur_file = to_data_dir('integer_array.tsv')\n",
    "\n",
    "np.savetxt(cur_file, arr, fmt='%i', delimiter='\\t')\n",
    "print('integer_array.tsv\\n')\n",
    "\n",
    "with open(cur_file, 'r') as out:\n",
    "    print(''.join(out.readlines()))"
   ]
  },
  {
   "cell_type": "code",
   "execution_count": 30,
   "metadata": {},
   "outputs": [
    {
     "name": "stdout",
     "output_type": "stream",
     "text": [
      "\n",
      "integer_array.csv\n",
      "\n",
      "1;2;3\n",
      "4;5;6\n",
      "\n"
     ]
    }
   ],
   "source": [
    "cur_file = to_data_dir('integer_array.csv')\n",
    "\n",
    "np.savetxt(cur_file, arr, fmt='%i', delimiter=';')\n",
    "print('\\ninteger_array.csv\\n')\n",
    "\n",
    "with open(cur_file, 'r') as out:\n",
    "    print(''.join(out.readlines()))"
   ]
  },
  {
   "cell_type": "code",
   "execution_count": 31,
   "metadata": {},
   "outputs": [
    {
     "name": "stdout",
     "output_type": "stream",
     "text": [
      "integer_array.tsv\n",
      "\n",
      "1\t2\t3\n",
      "4\t5\t6\n",
      "\n"
     ]
    }
   ],
   "source": [
    "arr = np.array(\n",
    "    [[1.4325,       2.435,    3.345],\n",
    "     [4.435345, 5.3454352, 6.543345]]\n",
    ")\n",
    "\n",
    "cur_file = to_data_dir('integer_array.tsv')\n",
    "\n",
    "np.savetxt(cur_file, arr, fmt='%i', delimiter='\\t')\n",
    "print('integer_array.tsv\\n')\n",
    "\n",
    "with open(cur_file, 'r') as out:\n",
    "    print(''.join(out.readlines()))"
   ]
  },
  {
   "cell_type": "code",
   "execution_count": 32,
   "metadata": {},
   "outputs": [
    {
     "name": "stdout",
     "output_type": "stream",
     "text": [
      "\n",
      "integer_array.csv\n",
      "\n",
      "1;2;3\n",
      "4;5;6\n",
      "\n"
     ]
    }
   ],
   "source": [
    "cur_file = to_data_dir('integer_array.csv')\n",
    "\n",
    "np.savetxt(cur_file, arr, fmt='%i', delimiter=';')\n",
    "print('\\ninteger_array.csv\\n')\n",
    "\n",
    "with open(cur_file, 'r') as out:\n",
    "    print(''.join(out.readlines()))"
   ]
  },
  {
   "cell_type": "code",
   "execution_count": 33,
   "metadata": {},
   "outputs": [
    {
     "name": "stdout",
     "output_type": "stream",
     "text": [
      "\n",
      "float_array.tsv\n",
      "\n",
      "1.432500000\t2.435000000\t3.345000000\n",
      "4.435345000\t5.345435200\t6.543345000\n",
      "\n"
     ]
    }
   ],
   "source": [
    "cur_file = to_data_dir('float_array.tsv')\n",
    "\n",
    "np.savetxt(cur_file, arr, fmt='%.9f', delimiter='\\t')  # 2 в fmt - это точность сохранения\n",
    "print('\\nfloat_array.tsv\\n')\n",
    "\n",
    "with open(cur_file, 'r') as out:\n",
    "    print(''.join(out.readlines()))"
   ]
  },
  {
   "cell_type": "code",
   "execution_count": 34,
   "metadata": {},
   "outputs": [
    {
     "name": "stdout",
     "output_type": "stream",
     "text": [
      "\n",
      "float_array.csv\n",
      "\n",
      "1.43250;2.43500;3.34500\n",
      "4.43534;5.34544;6.54335\n",
      "\n"
     ]
    }
   ],
   "source": [
    "cur_file = to_data_dir('float_array.csv')\n",
    "\n",
    "np.savetxt(cur_file, arr, fmt='%.5f', delimiter=';')\n",
    "print('\\nfloat_array.csv\\n')\n",
    "\n",
    "with open(cur_file, 'r') as out:\n",
    "    print(''.join(out.readlines()))"
   ]
  },
  {
   "cell_type": "markdown",
   "metadata": {},
   "source": [
    "С описанием специфики `np.savetxt` лучше знакомиться по мере необходимости на [сайте](https://numpy.org/doc/1.18/reference/generated/numpy.savetxt.html) с документацией.\n",
    "\n",
    "#### Инициализация вставкой или удалением элементов\n",
    "\n",
    "<span style=\"color:red\">**ЭТО ВАЖНО!**</span>\n",
    "\n",
    "Основной спецификой `ndarray` является тот факт, что в него нельзя вставить/удалить элемент в произвольном месте, не переаллоциров весь массив. Это так по следующим причинам:\n",
    "- Вне зависимости от размерности (будь то это вектор, матрица, 3-тензор или 4-тензор и т.д.), `ndarray` представляется одним большим протяжённым линейным куском оперативной памяти\n",
    "- Операционные системы не могут расширять уже выделенные для работы программы куски оперативной памяти\n",
    "- Поэтому единственная возможность при вставке элемента в произвольное место массива &mdash; это\n",
    "  - Дополнительное выделение памяти большего размера в другом месте\n",
    "  - Полное копирование уже имеющегося массива туда\n",
    "  - И запись вставляемого значения в желаемое место в массиве\n",
    "\n",
    "Поэтому применение следующих операций в циклах может сильно замедлить вашу программу."
   ]
  },
  {
   "cell_type": "code",
   "execution_count": 35,
   "metadata": {},
   "outputs": [
    {
     "name": "stdout",
     "output_type": "stream",
     "text": [
      "[ 0  1  2  3  4  6  8  9 10 11 12 13 14 15 16 17 18 19]\n"
     ]
    }
   ],
   "source": [
    "arr = np.arange(20)\n",
    "print(\n",
    "    np.delete(arr, (5, 7))\n",
    ")  # Удаление элементов на позициях 5 и 7"
   ]
  },
  {
   "cell_type": "code",
   "execution_count": 36,
   "metadata": {},
   "outputs": [
    {
     "name": "stdout",
     "output_type": "stream",
     "text": [
      "[ 0  1  0  0  2  3  4  5  6  7  8  9 10 11 12 13 14 15 16 17 18 19]\n"
     ]
    }
   ],
   "source": [
    "print(\n",
    "    np.insert(arr, 2, [0, 0])\n",
    ")"
   ]
  },
  {
   "cell_type": "code",
   "execution_count": 37,
   "metadata": {},
   "outputs": [
    {
     "name": "stdout",
     "output_type": "stream",
     "text": [
      "[ 0  1  2  3  4  5  6  7  8  9 10 11 12 13 14 15 16 17 18 19  1  2  3]\n"
     ]
    }
   ],
   "source": [
    "print(\n",
    "    np.append(arr, [1, 2, 3])\n",
    ")"
   ]
  },
  {
   "cell_type": "markdown",
   "metadata": {},
   "source": [
    "### Двумерные массивы (матрицы)\n",
    "#### Из вложенных `list`"
   ]
  },
  {
   "cell_type": "code",
   "execution_count": 38,
   "metadata": {},
   "outputs": [
    {
     "name": "stdout",
     "output_type": "stream",
     "text": [
      "[[2 3 4]\n",
      " [5 6 7]]\n"
     ]
    }
   ],
   "source": [
    "arr = np.array([[2, 3, 4], [5, 6, 7]])\n",
    "print(arr)"
   ]
  },
  {
   "cell_type": "markdown",
   "metadata": {},
   "source": [
    "#### Да хоть так"
   ]
  },
  {
   "cell_type": "code",
   "execution_count": 39,
   "metadata": {},
   "outputs": [
    {
     "name": "stdout",
     "output_type": "stream",
     "text": [
      "[[2 3 4]\n",
      " [5 6 7]]\n"
     ]
    }
   ],
   "source": [
    "arr = np.array([range(2, 5), (5, 6, 7)])\n",
    "print(arr)"
   ]
  },
  {
   "cell_type": "code",
   "execution_count": 40,
   "metadata": {},
   "outputs": [
    {
     "name": "stdout",
     "output_type": "stream",
     "text": [
      "[[2 3 4]\n",
      " [5 6 7]]\n"
     ]
    }
   ],
   "source": [
    "arr = np.array((range(2, 5), (5, 6, 7)))\n",
    "print(arr)"
   ]
  },
  {
   "cell_type": "code",
   "execution_count": 41,
   "metadata": {},
   "outputs": [
    {
     "name": "stdout",
     "output_type": "stream",
     "text": [
      "[[2 3 4]\n",
      " [5 6 7]]\n"
     ]
    }
   ],
   "source": [
    "arr = np.array(\n",
    "    (\n",
    "        range(2, 5),\n",
    "        np.fromiter((i for i in (5, 6, 7)), dtype=int)\n",
    "    )\n",
    ")  # Естественно, это утрированный пример\n",
    "print(arr)"
   ]
  },
  {
   "cell_type": "code",
   "execution_count": 42,
   "metadata": {},
   "outputs": [
    {
     "name": "stdout",
     "output_type": "stream",
     "text": [
      "[[1 0 0 0 0]\n",
      " [0 1 0 0 0]\n",
      " [0 0 1 0 0]\n",
      " [0 0 0 1 0]\n",
      " [0 0 0 0 1]]\n"
     ]
    }
   ],
   "source": [
    "print(\n",
    "    np.eye(5, dtype=int)\n",
    ")  # Единичная матрица"
   ]
  },
  {
   "cell_type": "markdown",
   "metadata": {},
   "source": [
    "#### Конкатенация\n",
    "##### По строкам"
   ]
  },
  {
   "cell_type": "code",
   "execution_count": 43,
   "metadata": {},
   "outputs": [],
   "source": [
    "a = np.array(\n",
    "    [[0, 1],\n",
    "     [2, 3]]\n",
    ")\n",
    "b = np.array(\n",
    "    [[4, 5, 6],\n",
    "     [7, 8, 9]]\n",
    ")\n",
    "c = np.array(\n",
    "    [[4, 5],\n",
    "     [6, 7],\n",
    "     [8, 9]]\n",
    ")"
   ]
  },
  {
   "cell_type": "code",
   "execution_count": 44,
   "metadata": {},
   "outputs": [
    {
     "name": "stdout",
     "output_type": "stream",
     "text": [
      "[[0 1 4 5 6]\n",
      " [2 3 7 8 9]]\n"
     ]
    }
   ],
   "source": [
    "print(\n",
    "    np.hstack(\n",
    "        (a, b)\n",
    "    )\n",
    ")  # По строкам"
   ]
  },
  {
   "cell_type": "code",
   "execution_count": 45,
   "metadata": {},
   "outputs": [
    {
     "name": "stdout",
     "output_type": "stream",
     "text": [
      "[[0 1]\n",
      " [2 3]\n",
      " [4 5]\n",
      " [6 7]\n",
      " [8 9]]\n"
     ]
    }
   ],
   "source": [
    "print(\n",
    "    np.vstack(\n",
    "        (a, c)\n",
    "    )\n",
    ")  # По столбцам"
   ]
  },
  {
   "cell_type": "markdown",
   "metadata": {},
   "source": [
    "#### Чтение из файла"
   ]
  },
  {
   "cell_type": "code",
   "execution_count": 46,
   "metadata": {},
   "outputs": [
    {
     "name": "stdout",
     "output_type": "stream",
     "text": [
      "[[2 3 4]\n",
      " [5 6 7]]\n"
     ]
    }
   ],
   "source": [
    "file_content = ('2 3 4\\n'\n",
    "                '5 6 7')\n",
    "cur_file = to_data_dir('temp_arr.txt')\n",
    "with open(cur_file, 'w') as out:\n",
    "    out.write(file_content)\n",
    "\n",
    "arr = np.loadtxt(cur_file, dtype=int)\n",
    "print(arr)"
   ]
  },
  {
   "cell_type": "code",
   "execution_count": 47,
   "metadata": {},
   "outputs": [
    {
     "name": "stdout",
     "output_type": "stream",
     "text": [
      "[[2 3 4]\n",
      " [5 6 7]]\n"
     ]
    }
   ],
   "source": [
    "file_content = ('2_3_4\\n'\n",
    "                '5_6_7')\n",
    "cur_file = to_data_dir('temp_arr.txt')\n",
    "with open(cur_file, 'w') as out:\n",
    "    out.write(file_content)\n",
    "\n",
    "arr = np.loadtxt(cur_file, dtype=int, delimiter='_')\n",
    "print(arr)  "
   ]
  },
  {
   "cell_type": "markdown",
   "metadata": {},
   "source": [
    "Если вы хотите узнать количество строк и столбцов, воспользуйтесь атрибутом `shape`.\n",
    "\n",
    "Возвращает `tuple` длины размерности `ndarray`"
   ]
  },
  {
   "cell_type": "code",
   "execution_count": 48,
   "metadata": {},
   "outputs": [
    {
     "data": {
      "text/plain": [
       "(2, 3)"
      ]
     },
     "execution_count": 48,
     "metadata": {},
     "output_type": "execute_result"
    }
   ],
   "source": [
    "arr.shape"
   ]
  },
  {
   "cell_type": "code",
   "execution_count": 49,
   "metadata": {},
   "outputs": [],
   "source": [
    "arr = np.array([1, 2, 3])\n",
    "assert len(arr) == arr.shape[0]"
   ]
  },
  {
   "cell_type": "markdown",
   "metadata": {},
   "source": [
    "### N-мерные массивы (n-тезоры)\n",
    "$\\huge T_{i_1,..i_n}$\n",
    "#### Из вложенных `list`, `tuple` и `range`"
   ]
  },
  {
   "cell_type": "code",
   "execution_count": 50,
   "metadata": {},
   "outputs": [
    {
     "name": "stdout",
     "output_type": "stream",
     "text": [
      "[[[2 3]\n",
      "  [4 5]]\n",
      "\n",
      " [[6 7]\n",
      "  [8 9]]]\n"
     ]
    }
   ],
   "source": [
    "arr = np.array([[[2, 3], [4, 5]], [[6, 7], [8, 9]]])\n",
    "print(arr)"
   ]
  },
  {
   "cell_type": "markdown",
   "metadata": {},
   "source": [
    "#### Или из одномерного массива путём переиндексации"
   ]
  },
  {
   "cell_type": "code",
   "execution_count": 51,
   "metadata": {},
   "outputs": [
    {
     "name": "stdout",
     "output_type": "stream",
     "text": [
      "[2 3 4 5 6 7 8 9]\n"
     ]
    }
   ],
   "source": [
    "arr = np.array(range(2, 10))\n",
    "print(arr)"
   ]
  },
  {
   "cell_type": "code",
   "execution_count": 52,
   "metadata": {},
   "outputs": [
    {
     "name": "stdout",
     "output_type": "stream",
     "text": [
      "[[[2 3]\n",
      "  [4 5]]\n",
      "\n",
      " [[6 7]\n",
      "  [8 9]]]\n"
     ]
    }
   ],
   "source": [
    "reshaped = arr.reshape(2, 2, 2)  # В 3-тензор\n",
    "print(reshaped)"
   ]
  },
  {
   "cell_type": "code",
   "execution_count": 53,
   "metadata": {},
   "outputs": [
    {
     "data": {
      "text/plain": [
       "(2, 2, 2)"
      ]
     },
     "execution_count": 53,
     "metadata": {},
     "output_type": "execute_result"
    }
   ],
   "source": [
    "reshaped.shape"
   ]
  },
  {
   "cell_type": "markdown",
   "metadata": {},
   "source": [
    "##### Или попросить вывести размерность индекса самостоятельно\n",
    "В данном случае &mdash; второго"
   ]
  },
  {
   "cell_type": "code",
   "execution_count": 54,
   "metadata": {},
   "outputs": [
    {
     "name": "stdout",
     "output_type": "stream",
     "text": [
      "[[[2 3]\n",
      "  [4 5]]\n",
      "\n",
      " [[6 7]\n",
      "  [8 9]]]\n"
     ]
    }
   ],
   "source": [
    "reshaped = arr.reshape(2, -1, 2)\n",
    "print(reshaped)"
   ]
  },
  {
   "cell_type": "markdown",
   "metadata": {},
   "source": [
    "##### Иногда сделать это невозможно"
   ]
  },
  {
   "cell_type": "code",
   "execution_count": 55,
   "metadata": {},
   "outputs": [
    {
     "name": "stdout",
     "output_type": "stream",
     "text": [
      "[ 2  3  4  5  6  7  8  9 10]\n"
     ]
    }
   ],
   "source": [
    "arr = np.array(range(2, 11))      # В массив добавили ещё один элемент - десятку\n",
    "print(arr)"
   ]
  },
  {
   "cell_type": "code",
   "execution_count": 56,
   "metadata": {},
   "outputs": [
    {
     "ename": "ValueError",
     "evalue": "cannot reshape array of size 9 into shape (2,newaxis,2)",
     "output_type": "error",
     "traceback": [
      "\u001b[0;31m---------------------------------------------------------------------------\u001b[0m",
      "\u001b[0;31mValueError\u001b[0m                                Traceback (most recent call last)",
      "\u001b[0;32m<ipython-input-56-b7e3ab62c276>\u001b[0m in \u001b[0;36m<module>\u001b[0;34m\u001b[0m\n\u001b[0;32m----> 1\u001b[0;31m \u001b[0mreshaped\u001b[0m \u001b[0;34m=\u001b[0m \u001b[0marr\u001b[0m\u001b[0;34m.\u001b[0m\u001b[0mreshape\u001b[0m\u001b[0;34m(\u001b[0m\u001b[0;36m2\u001b[0m\u001b[0;34m,\u001b[0m \u001b[0;34m-\u001b[0m\u001b[0;36m1\u001b[0m\u001b[0;34m,\u001b[0m \u001b[0;36m2\u001b[0m\u001b[0;34m)\u001b[0m  \u001b[0;31m# Выдаёт ошибку\u001b[0m\u001b[0;34m\u001b[0m\u001b[0;34m\u001b[0m\u001b[0m\n\u001b[0m",
      "\u001b[0;31mValueError\u001b[0m: cannot reshape array of size 9 into shape (2,newaxis,2)"
     ]
    }
   ],
   "source": [
    "reshaped = arr.reshape(2, -1, 2)  # Выдаёт ошибку"
   ]
  },
  {
   "cell_type": "markdown",
   "metadata": {},
   "source": [
    "##### Аналогично можно проинициализировать 4-тензор"
   ]
  },
  {
   "cell_type": "code",
   "execution_count": 57,
   "metadata": {},
   "outputs": [
    {
     "name": "stdout",
     "output_type": "stream",
     "text": [
      "[ 2  3  4  5  6  7  8  9 10 11 12 13 14 15 16 17]\n"
     ]
    }
   ],
   "source": [
    "arr = np.array(range(2, 18))\n",
    "print(arr)"
   ]
  },
  {
   "cell_type": "code",
   "execution_count": 58,
   "metadata": {},
   "outputs": [
    {
     "name": "stdout",
     "output_type": "stream",
     "text": [
      "[[[[ 2  3]\n",
      "   [ 4  5]]\n",
      "\n",
      "  [[ 6  7]\n",
      "   [ 8  9]]]\n",
      "\n",
      "\n",
      " [[[10 11]\n",
      "   [12 13]]\n",
      "\n",
      "  [[14 15]\n",
      "   [16 17]]]]\n"
     ]
    }
   ],
   "source": [
    "reshaped = arr.reshape(2, 2, 2, 2)\n",
    "reshaped = arr.reshape(2, 2, -1, 2)  # То же самое\n",
    "print(reshaped)"
   ]
  },
  {
   "cell_type": "markdown",
   "metadata": {},
   "source": [
    "А можно и так!"
   ]
  },
  {
   "cell_type": "code",
   "execution_count": 59,
   "metadata": {},
   "outputs": [
    {
     "name": "stdout",
     "output_type": "stream",
     "text": [
      "[ 2  3  4  5  6  7  8  9 10 11 12 13 14 15 16 17]\n"
     ]
    }
   ],
   "source": [
    "arr = np.array(range(2, 18))\n",
    "print(arr)"
   ]
  },
  {
   "cell_type": "code",
   "execution_count": 60,
   "metadata": {},
   "outputs": [
    {
     "name": "stdout",
     "output_type": "stream",
     "text": [
      "[[[[ 2  3]\n",
      "   [ 4  5]]\n",
      "\n",
      "  [[ 6  7]\n",
      "   [ 8  9]]]\n",
      "\n",
      "\n",
      " [[[10 11]\n",
      "   [12 13]]\n",
      "\n",
      "  [[14 15]\n",
      "   [16 17]]]]\n"
     ]
    }
   ],
   "source": [
    "arr.shape = (2, 2, -1, 2)\n",
    "print(arr)"
   ]
  },
  {
   "cell_type": "code",
   "execution_count": 61,
   "metadata": {},
   "outputs": [
    {
     "data": {
      "text/plain": [
       "(2, 2, 2, 2)"
      ]
     },
     "execution_count": 61,
     "metadata": {},
     "output_type": "execute_result"
    }
   ],
   "source": [
    "arr.shape"
   ]
  },
  {
   "cell_type": "markdown",
   "metadata": {},
   "source": [
    "А можно и растянуть обратно"
   ]
  },
  {
   "cell_type": "code",
   "execution_count": 62,
   "metadata": {},
   "outputs": [
    {
     "data": {
      "text/plain": [
       "array([ 2,  3,  4,  5,  6,  7,  8,  9, 10, 11, 12, 13, 14, 15, 16, 17])"
      ]
     },
     "execution_count": 62,
     "metadata": {},
     "output_type": "execute_result"
    }
   ],
   "source": [
    "arr.ravel()    # Копирует содержимое массива только, если это нужно"
   ]
  },
  {
   "cell_type": "code",
   "execution_count": 63,
   "metadata": {},
   "outputs": [
    {
     "data": {
      "text/plain": [
       "array([ 2,  3,  4,  5,  6,  7,  8,  9, 10, 11, 12, 13, 14, 15, 16, 17])"
      ]
     },
     "execution_count": 63,
     "metadata": {},
     "output_type": "execute_result"
    }
   ],
   "source": [
    "arr.flatten()  # Копирует содержимое массива в другую область памяти в любом случае, но результат - тот же"
   ]
  },
  {
   "cell_type": "markdown",
   "metadata": {},
   "source": [
    "Для понимания подобных тонкостей читайте документацию!\n",
    "\n",
    "- [Ravel](https://docs.scipy.org/doc/numpy/reference/generated/numpy.ndarray.ravel.html)\n",
    "- [Flatten](https://docs.scipy.org/doc/numpy/reference/generated/numpy.ndarray.flatten.html)\n",
    "\n",
    "#### Инициализация существующими массивами\n",
    "##### Конкатенация"
   ]
  },
  {
   "cell_type": "code",
   "execution_count": 64,
   "metadata": {},
   "outputs": [
    {
     "data": {
      "text/plain": [
       "array([[1, 2],\n",
       "       [3, 4],\n",
       "       [5, 6]])"
      ]
     },
     "execution_count": 64,
     "metadata": {},
     "output_type": "execute_result"
    }
   ],
   "source": [
    "a = np.array(\n",
    "    [[1, 2],\n",
    "     [3, 4]]\n",
    ")\n",
    "b = np.array(\n",
    "    [[5, 6]]\n",
    ")\n",
    "\n",
    "np.concatenate((a, b), axis=0)"
   ]
  },
  {
   "cell_type": "code",
   "execution_count": 65,
   "metadata": {},
   "outputs": [
    {
     "ename": "ValueError",
     "evalue": "all the input array dimensions except for the concatenation axis must match exactly",
     "output_type": "error",
     "traceback": [
      "\u001b[0;31m---------------------------------------------------------------------------\u001b[0m",
      "\u001b[0;31mValueError\u001b[0m                                Traceback (most recent call last)",
      "\u001b[0;32m<ipython-input-65-8450fba6c9ec>\u001b[0m in \u001b[0;36m<module>\u001b[0;34m\u001b[0m\n\u001b[0;32m----> 1\u001b[0;31m \u001b[0mnp\u001b[0m\u001b[0;34m.\u001b[0m\u001b[0mconcatenate\u001b[0m\u001b[0;34m(\u001b[0m\u001b[0;34m(\u001b[0m\u001b[0ma\u001b[0m\u001b[0;34m,\u001b[0m \u001b[0mb\u001b[0m\u001b[0;34m)\u001b[0m\u001b[0;34m,\u001b[0m \u001b[0maxis\u001b[0m\u001b[0;34m=\u001b[0m\u001b[0;36m1\u001b[0m\u001b[0;34m)\u001b[0m   \u001b[0;31m# Нельзя\u001b[0m\u001b[0;34m\u001b[0m\u001b[0;34m\u001b[0m\u001b[0m\n\u001b[0m",
      "\u001b[0;31mValueError\u001b[0m: all the input array dimensions except for the concatenation axis must match exactly"
     ]
    }
   ],
   "source": [
    "np.concatenate((a, b), axis=1)   # Нельзя"
   ]
  },
  {
   "cell_type": "code",
   "execution_count": 66,
   "metadata": {},
   "outputs": [
    {
     "name": "stdout",
     "output_type": "stream",
     "text": [
      "[[5]\n",
      " [6]]\n"
     ]
    }
   ],
   "source": [
    "c = b.T\n",
    "print(c)"
   ]
  },
  {
   "cell_type": "code",
   "execution_count": 67,
   "metadata": {},
   "outputs": [
    {
     "data": {
      "text/plain": [
       "array([[1, 2, 5],\n",
       "       [3, 4, 6]])"
      ]
     },
     "execution_count": 67,
     "metadata": {},
     "output_type": "execute_result"
    }
   ],
   "source": [
    "np.concatenate((a, c), axis=1)  # А так можно"
   ]
  },
  {
   "cell_type": "markdown",
   "metadata": {},
   "source": [
    "##### Дополнительные способы"
   ]
  },
  {
   "cell_type": "code",
   "execution_count": 68,
   "metadata": {},
   "outputs": [
    {
     "name": "stdout",
     "output_type": "stream",
     "text": [
      "[[[0. 0. 0.]\n",
      "  [0. 0. 0.]]\n",
      "\n",
      " [[0. 0. 0.]\n",
      "  [0. 0. 0.]]\n",
      "\n",
      " [[0. 0. 0.]\n",
      "  [0. 0. 0.]]]\n"
     ]
    }
   ],
   "source": [
    "print(\n",
    "    np.zeros((3, 2, 3))\n",
    ")"
   ]
  },
  {
   "cell_type": "code",
   "execution_count": 69,
   "metadata": {},
   "outputs": [
    {
     "name": "stdout",
     "output_type": "stream",
     "text": [
      "[[0 0]\n",
      " [0 0]\n",
      " [0 0]]\n"
     ]
    }
   ],
   "source": [
    "print(\n",
    "    np.zeros_like(\n",
    "        [[32, 323],\n",
    "         [ 3,   4],\n",
    "         [ 0,  -3]]\n",
    "    )\n",
    ")"
   ]
  },
  {
   "cell_type": "code",
   "execution_count": 70,
   "metadata": {},
   "outputs": [
    {
     "name": "stdout",
     "output_type": "stream",
     "text": [
      "[[1. 1. 1. 1. 1. 1.]\n",
      " [1. 1. 1. 1. 1. 1.]\n",
      " [1. 1. 1. 1. 1. 1.]]\n"
     ]
    }
   ],
   "source": [
    "print(\n",
    "    np.ones((3, 6))\n",
    ")"
   ]
  },
  {
   "cell_type": "markdown",
   "metadata": {},
   "source": [
    "## Индексация массивов\n",
    "### Одномерный случай\n",
    "К срезу элементов `Ndarray` можно получить доступ стандартным питоновским подходом."
   ]
  },
  {
   "cell_type": "code",
   "execution_count": 71,
   "metadata": {},
   "outputs": [
    {
     "name": "stdout",
     "output_type": "stream",
     "text": [
      "[ 44  45  46  47  48  49  50  51  52  53  54  55  56  57  58  59  60  61\n",
      "  62  63  64  65  66  67  68  69  70  71  72  73  74  75  76  77  78  79\n",
      "  80  81  82  83  84  85  86  87  88  89  90  91  92  93  94  95  96  97\n",
      "  98  99 100 101 102 103 104 105 106 107 108 109 110 111 112 113 114 115\n",
      " 116 117 118 119 120 121 122 123 124 125]\n"
     ]
    }
   ],
   "source": [
    "arr = np.arange(44, 126)\n",
    "print(arr)"
   ]
  },
  {
   "cell_type": "code",
   "execution_count": 72,
   "metadata": {},
   "outputs": [
    {
     "data": {
      "text/plain": [
       "array([44, 45, 46, 47, 48, 49, 50, 51, 52, 53, 54, 55])"
      ]
     },
     "execution_count": 72,
     "metadata": {},
     "output_type": "execute_result"
    }
   ],
   "source": [
    "arr[:12]"
   ]
  },
  {
   "cell_type": "code",
   "execution_count": 73,
   "metadata": {},
   "outputs": [
    {
     "data": {
      "text/plain": [
       "array([44, 46, 48, 50, 52, 54])"
      ]
     },
     "execution_count": 73,
     "metadata": {},
     "output_type": "execute_result"
    }
   ],
   "source": [
    "arr[:12:2]"
   ]
  },
  {
   "cell_type": "code",
   "execution_count": 74,
   "metadata": {},
   "outputs": [
    {
     "data": {
      "text/plain": [
       "array([64, 65, 66, 67, 68])"
      ]
     },
     "execution_count": 74,
     "metadata": {},
     "output_type": "execute_result"
    }
   ],
   "source": [
    "arr[20:25]"
   ]
  },
  {
   "cell_type": "code",
   "execution_count": 75,
   "metadata": {},
   "outputs": [
    {
     "data": {
      "text/plain": [
       "array([ 64,  72,  80,  88,  96, 104, 112, 120])"
      ]
     },
     "execution_count": 75,
     "metadata": {},
     "output_type": "execute_result"
    }
   ],
   "source": [
    "arr[20:125:8]"
   ]
  },
  {
   "cell_type": "code",
   "execution_count": 76,
   "metadata": {},
   "outputs": [
    {
     "data": {
      "text/plain": [
       "array([76, 75, 74, 73, 72, 71, 70, 69, 68, 67, 66, 65, 64, 63, 62, 61, 60,\n",
       "       59, 58, 57])"
      ]
     },
     "execution_count": 76,
     "metadata": {},
     "output_type": "execute_result"
    }
   ],
   "source": [
    "arr[32:12:-1]"
   ]
  },
  {
   "cell_type": "code",
   "execution_count": 77,
   "metadata": {},
   "outputs": [
    {
     "data": {
      "text/plain": [
       "array([125, 124, 123, 122, 121, 120, 119, 118, 117, 116, 115, 114, 113,\n",
       "       112, 111, 110, 109, 108, 107, 106, 105, 104, 103, 102, 101, 100,\n",
       "        99,  98,  97,  96,  95,  94,  93,  92,  91,  90,  89,  88,  87,\n",
       "        86,  85,  84,  83,  82,  81,  80,  79,  78,  77,  76,  75,  74,\n",
       "        73,  72,  71,  70,  69,  68,  67,  66,  65,  64,  63,  62,  61,\n",
       "        60,  59,  58,  57,  56,  55,  54,  53,  52,  51,  50,  49,  48,\n",
       "        47,  46,  45,  44])"
      ]
     },
     "execution_count": 77,
     "metadata": {},
     "output_type": "execute_result"
    }
   ],
   "source": [
    "arr[::-1]"
   ]
  },
  {
   "cell_type": "markdown",
   "metadata": {},
   "source": [
    "### Многомерный случай"
   ]
  },
  {
   "cell_type": "code",
   "execution_count": 78,
   "metadata": {},
   "outputs": [
    {
     "name": "stdout",
     "output_type": "stream",
     "text": [
      "[[    4     5     4     4   554]\n",
      " [    6     7    43    43  4343]\n",
      " [    8     9 32435    34    21]]\n"
     ]
    }
   ],
   "source": [
    "arr = np.array(\n",
    "    [[4, 5,     4,  4,  554],\n",
    "     [6, 7,    43, 43, 4343],\n",
    "     [8, 9, 32435, 34,   21]]\n",
    ")\n",
    "print(arr)"
   ]
  },
  {
   "cell_type": "code",
   "execution_count": 79,
   "metadata": {},
   "outputs": [
    {
     "data": {
      "text/plain": [
       "array([[   43],\n",
       "       [32435]])"
      ]
     },
     "execution_count": 79,
     "metadata": {},
     "output_type": "execute_result"
    }
   ],
   "source": [
    "arr[1:4, 2:4:2]"
   ]
  },
  {
   "cell_type": "code",
   "execution_count": 80,
   "metadata": {},
   "outputs": [
    {
     "data": {
      "text/plain": [
       "array([[  554,     4,     4,     5,     4],\n",
       "       [ 4343,    43,    43,     7,     6],\n",
       "       [   21,    34, 32435,     9,     8]])"
      ]
     },
     "execution_count": 80,
     "metadata": {},
     "output_type": "execute_result"
    }
   ],
   "source": [
    "arr[:, ::-1]"
   ]
  },
  {
   "cell_type": "markdown",
   "metadata": {},
   "source": [
    "## Тип данных (`dtype`)\n",
    "\n",
    "Все массивы `NumPy` имеют фиксированный тип, в отличие от родных массивов `Python`. Это нужно для ускорения вычислений и включения процессорных оптимизаций при выполнении векторизованных операций (о них будет чуть позже)."
   ]
  },
  {
   "cell_type": "code",
   "execution_count": 81,
   "metadata": {},
   "outputs": [
    {
     "name": "stdout",
     "output_type": "stream",
     "text": [
      "[2 3 4]\n"
     ]
    }
   ],
   "source": [
    "arr = np.array([2, 3, 4])\n",
    "print(arr)"
   ]
  },
  {
   "cell_type": "code",
   "execution_count": 82,
   "metadata": {},
   "outputs": [
    {
     "name": "stdout",
     "output_type": "stream",
     "text": [
      "<class 'numpy.ndarray'>\n"
     ]
    }
   ],
   "source": [
    "print(type(arr))"
   ]
  },
  {
   "cell_type": "markdown",
   "metadata": {},
   "source": [
    "`dtype` массива хранится в атрибуте... `dtype`"
   ]
  },
  {
   "cell_type": "code",
   "execution_count": 83,
   "metadata": {},
   "outputs": [
    {
     "name": "stdout",
     "output_type": "stream",
     "text": [
      "int64\n"
     ]
    }
   ],
   "source": [
    "print(arr.dtype)"
   ]
  },
  {
   "cell_type": "markdown",
   "metadata": {},
   "source": [
    "### Наиболее распространённые типы\n",
    "#### `int`\n",
    "Который конвертируется в `np.int64`, то есть в целочисленную переменную со знаком, занимающую 64 бита оперативной памяти."
   ]
  },
  {
   "cell_type": "code",
   "execution_count": 84,
   "metadata": {},
   "outputs": [
    {
     "name": "stdout",
     "output_type": "stream",
     "text": [
      "[2 3 4]\n"
     ]
    }
   ],
   "source": [
    "arr = np.array([2, 3, 4], dtype=int)\n",
    "print(arr)"
   ]
  },
  {
   "cell_type": "code",
   "execution_count": 85,
   "metadata": {},
   "outputs": [
    {
     "name": "stdout",
     "output_type": "stream",
     "text": [
      "int64\n"
     ]
    }
   ],
   "source": [
    "print(arr.dtype)"
   ]
  },
  {
   "cell_type": "markdown",
   "metadata": {},
   "source": [
    "Может принимать значения от $-2^{63}$ до $2^{63}-1$, то есть $\\in[-9223 372 036 854 775 808, 9 223 372 036 854 775 807]$. Этого хватает для подавляющего большинства задач.\n",
    "\n",
    "У подхода с фиксированным размером численной переменной есть недостатки:\n",
    "\n",
    "- При прибавлении к $2^{63}-1$ единицы происходит переполнение, и значение переменной становится равным $-2^{63}$.\n",
    "\n",
    "- Аналогично происходит при вычитании из нижней границы."
   ]
  },
  {
   "cell_type": "code",
   "execution_count": 86,
   "metadata": {},
   "outputs": [
    {
     "name": "stdout",
     "output_type": "stream",
     "text": [
      "9223372036854775807\n"
     ]
    }
   ],
   "source": [
    "integer = np.int64(2 ** 63 - 1)\n",
    "print(integer)"
   ]
  },
  {
   "cell_type": "code",
   "execution_count": 87,
   "metadata": {},
   "outputs": [
    {
     "name": "stdout",
     "output_type": "stream",
     "text": [
      "-9223372036854775808\n"
     ]
    }
   ],
   "source": [
    "print(integer + 1)"
   ]
  },
  {
   "cell_type": "code",
   "execution_count": 88,
   "metadata": {},
   "outputs": [
    {
     "name": "stdout",
     "output_type": "stream",
     "text": [
      "-9223372036854775808\n"
     ]
    }
   ],
   "source": [
    "integer = np.int64(-2 ** 63)\n",
    "print(integer)"
   ]
  },
  {
   "cell_type": "code",
   "execution_count": 89,
   "metadata": {},
   "outputs": [
    {
     "name": "stdout",
     "output_type": "stream",
     "text": [
      "9223372036854775807\n"
     ]
    }
   ],
   "source": [
    "print(integer - 1)"
   ]
  },
  {
   "cell_type": "markdown",
   "metadata": {},
   "source": [
    "Нативный питоновский `int` такими свойствами не обладает: он **не переполняем**. Но за это приходится расплачиваться значительно более медленной арифметикой. А для `NumPy` главное &mdash; скорость."
   ]
  },
  {
   "cell_type": "markdown",
   "metadata": {},
   "source": [
    "#### `float`\n",
    "Конвертируется в `np.float64`."
   ]
  },
  {
   "cell_type": "code",
   "execution_count": 90,
   "metadata": {},
   "outputs": [
    {
     "name": "stdout",
     "output_type": "stream",
     "text": [
      "[2. 3. 4.]\n"
     ]
    }
   ],
   "source": [
    "arr = np.array([2.0, 3.0, 4.0])\n",
    "print(arr)"
   ]
  },
  {
   "cell_type": "code",
   "execution_count": 91,
   "metadata": {},
   "outputs": [
    {
     "name": "stdout",
     "output_type": "stream",
     "text": [
      "float64\n"
     ]
    }
   ],
   "source": [
    "print(arr.dtype)"
   ]
  },
  {
   "cell_type": "code",
   "execution_count": 92,
   "metadata": {},
   "outputs": [
    {
     "name": "stdout",
     "output_type": "stream",
     "text": [
      "[2. 3. 4.]\n"
     ]
    }
   ],
   "source": [
    "arr = np.array([2.0, 3, 4])\n",
    "print(arr)"
   ]
  },
  {
   "cell_type": "code",
   "execution_count": 93,
   "metadata": {},
   "outputs": [
    {
     "name": "stdout",
     "output_type": "stream",
     "text": [
      "float64\n"
     ]
    }
   ],
   "source": [
    "print(arr.dtype)"
   ]
  },
  {
   "cell_type": "code",
   "execution_count": 94,
   "metadata": {},
   "outputs": [
    {
     "name": "stdout",
     "output_type": "stream",
     "text": [
      "[2. 3. 4.]\n"
     ]
    }
   ],
   "source": [
    "arr = np.array([2, 3, 4], dtype=float)\n",
    "print(arr)"
   ]
  },
  {
   "cell_type": "code",
   "execution_count": 95,
   "metadata": {},
   "outputs": [
    {
     "name": "stdout",
     "output_type": "stream",
     "text": [
      "[2. 3. 4.]\n"
     ]
    }
   ],
   "source": [
    "arr = np.array([2, 3, 4]).astype(float)\n",
    "print(arr)"
   ]
  },
  {
   "cell_type": "code",
   "execution_count": 96,
   "metadata": {},
   "outputs": [
    {
     "name": "stdout",
     "output_type": "stream",
     "text": [
      "float64\n"
     ]
    }
   ],
   "source": [
    "print(arr.dtype)"
   ]
  },
  {
   "cell_type": "markdown",
   "metadata": {},
   "source": [
    "Можно сохранить и менее точно, что требует меньше оперативной памяти:"
   ]
  },
  {
   "cell_type": "code",
   "execution_count": 97,
   "metadata": {},
   "outputs": [
    {
     "name": "stdout",
     "output_type": "stream",
     "text": [
      "[2. 3. 4.]\n"
     ]
    }
   ],
   "source": [
    "arr = np.array([2, 3, 4]).astype(np.float32)\n",
    "print(arr)"
   ]
  },
  {
   "cell_type": "markdown",
   "metadata": {},
   "source": [
    "Помимо обычных чисел конечной точности с плавающей запятой, переменные этого типа могут принимать три дополнительных значения, являющихся результатом некорректных операций:\n",
    "- `np.float64('inf')` &mdash; то есть плюс-бесконечность,\n",
    "- `np.float64('-inf')` &mdash; минус-бесконечность,\n",
    "- `np.float64('nan')` &mdash; `Not A Number`."
   ]
  },
  {
   "cell_type": "code",
   "execution_count": 98,
   "metadata": {},
   "outputs": [
    {
     "data": {
      "text/plain": [
       "(nan, inf, nan, 0.0)"
      ]
     },
     "execution_count": 98,
     "metadata": {},
     "output_type": "execute_result"
    }
   ],
   "source": [
    "np.nan + 1, np.inf + 1, np.inf * 0, 1.0 / np.inf"
   ]
  },
  {
   "cell_type": "markdown",
   "metadata": {},
   "source": [
    "Результат сравнения `Not A Number` с чем бы то ни было всегда равен `False`. Это довольно полезное свойство, которое эксплуатируется при индексации (о ней &mdash; чуть позже), и поэтому `NaN` часто используется как удобный заполнитель пропущенных значений."
   ]
  },
  {
   "cell_type": "code",
   "execution_count": 99,
   "metadata": {},
   "outputs": [
    {
     "data": {
      "text/plain": [
       "(False, False, False, False, False, False, False, False, False)"
      ]
     },
     "execution_count": 99,
     "metadata": {},
     "output_type": "execute_result"
    }
   ],
   "source": [
    "(\n",
    "    np.nan > 1,\n",
    "    np.nan < 1,\n",
    "    np.nan == 1,\n",
    "    np.nan == np.nan,\n",
    "    np.nan > np.nan,\n",
    "    np.nan > np.inf,\n",
    "    np.nan < np.inf,\n",
    "    np.nan > -np.inf,\n",
    "    np.nan < -np.inf\n",
    ")"
   ]
  },
  {
   "cell_type": "markdown",
   "metadata": {},
   "source": [
    "#### `bool`"
   ]
  },
  {
   "cell_type": "code",
   "execution_count": 100,
   "metadata": {},
   "outputs": [
    {
     "name": "stdout",
     "output_type": "stream",
     "text": [
      "[ True False False]\n"
     ]
    }
   ],
   "source": [
    "arr = np.array([True, False, False])\n",
    "print(arr)"
   ]
  },
  {
   "cell_type": "code",
   "execution_count": 101,
   "metadata": {},
   "outputs": [
    {
     "name": "stdout",
     "output_type": "stream",
     "text": [
      "bool\n"
     ]
    }
   ],
   "source": [
    "print(arr.dtype)"
   ]
  },
  {
   "cell_type": "code",
   "execution_count": 102,
   "metadata": {},
   "outputs": [
    {
     "name": "stdout",
     "output_type": "stream",
     "text": [
      "[1 0 0]\n"
     ]
    }
   ],
   "source": [
    "arr = np.array([True, False, False]).astype(int)\n",
    "print(arr)"
   ]
  },
  {
   "cell_type": "code",
   "execution_count": 103,
   "metadata": {},
   "outputs": [
    {
     "name": "stdout",
     "output_type": "stream",
     "text": [
      "[ True  True False]\n"
     ]
    }
   ],
   "source": [
    "arr = np.array([32, 64, 0]).astype(bool)\n",
    "print(arr)"
   ]
  },
  {
   "cell_type": "markdown",
   "metadata": {},
   "source": [
    "## Векторизованные операции\n",
    "\n",
    "### Скорость вычислений\n",
    "\n",
    "Векторизация означает, что операция выполняется для массива поэлементно.\n",
    "\n",
    "Как мы уже упомянули, для `NumPy` главное &mdash; скорость.\n",
    "\n",
    "Но правда ли это? Быстрее ли он, по сравнению с нативными инструментами `Python`?\n",
    "\n",
    "Давайте проверим!"
   ]
  },
  {
   "cell_type": "code",
   "execution_count": 113,
   "metadata": {},
   "outputs": [],
   "source": [
    "arr = list(range(10_000_000))"
   ]
  },
  {
   "cell_type": "code",
   "execution_count": 114,
   "metadata": {},
   "outputs": [
    {
     "name": "stdout",
     "output_type": "stream",
     "text": [
      "1.42 s ± 30 ms per loop (mean ± std. dev. of 7 runs, 1 loop each)\n"
     ]
    }
   ],
   "source": [
    "%%timeit\n",
    "for i in range(10_000_000):\n",
    "    arr[i] += 1"
   ]
  },
  {
   "cell_type": "code",
   "execution_count": 106,
   "metadata": {},
   "outputs": [
    {
     "name": "stdout",
     "output_type": "stream",
     "text": [
      "[      0       1       2 ... 9999997 9999998 9999999]\n"
     ]
    }
   ],
   "source": [
    "arr = np.arange(10_000_000)\n",
    "print(arr)"
   ]
  },
  {
   "cell_type": "code",
   "execution_count": 107,
   "metadata": {},
   "outputs": [
    {
     "name": "stdout",
     "output_type": "stream",
     "text": [
      "int64\n"
     ]
    }
   ],
   "source": [
    "print(arr.dtype)"
   ]
  },
  {
   "cell_type": "code",
   "execution_count": 108,
   "metadata": {},
   "outputs": [
    {
     "name": "stdout",
     "output_type": "stream",
     "text": [
      "4.96 s ± 273 ms per loop (mean ± std. dev. of 7 runs, 1 loop each)\n"
     ]
    }
   ],
   "source": [
    "%%timeit\n",
    "for i in range(10_000_000):\n",
    "    arr[i] += 1"
   ]
  },
  {
   "cell_type": "markdown",
   "metadata": {},
   "source": [
    "Казалось бы, я только что соврал: время выполнения аналогичного кода для `NumPy` оказалось в 4 раза большим.\n",
    "\n",
    "Так зачем же нужна эта библиотека? Стоит ли овчинка выделки?\n",
    "\n",
    "Конечно же стоит! И медленный тут отнюдь не `NumPy`. Всё дело в том, что мы написали неоптимальный код.\n",
    "\n",
    "Запомните: **избегайте многократного обращения к `ndarray` по индексу!**\n",
    "\n",
    "Эта операция намного более тяжеловесней, чем для нативного питоновского `list`."
   ]
  },
  {
   "cell_type": "code",
   "execution_count": 109,
   "metadata": {},
   "outputs": [],
   "source": [
    "arr = list(range(10_000_000))"
   ]
  },
  {
   "cell_type": "code",
   "execution_count": 110,
   "metadata": {},
   "outputs": [
    {
     "name": "stdout",
     "output_type": "stream",
     "text": [
      "55.5 ns ± 7.1 ns per loop (mean ± std. dev. of 7 runs, 10000000 loops each)\n"
     ]
    }
   ],
   "source": [
    "%%timeit\n",
    "arr[24232]"
   ]
  },
  {
   "cell_type": "code",
   "execution_count": 111,
   "metadata": {},
   "outputs": [],
   "source": [
    "arr = np.arange(10_000_000)"
   ]
  },
  {
   "cell_type": "code",
   "execution_count": 112,
   "metadata": {},
   "outputs": [
    {
     "name": "stdout",
     "output_type": "stream",
     "text": [
      "141 ns ± 2.5 ns per loop (mean ± std. dev. of 7 runs, 10000000 loops each)\n"
     ]
    }
   ],
   "source": [
    "%%timeit\n",
    "arr[24232]"
   ]
  },
  {
   "cell_type": "markdown",
   "metadata": {},
   "source": [
    "Вместо этого используйте **векторизованные операции**"
   ]
  },
  {
   "cell_type": "code",
   "execution_count": null,
   "metadata": {},
   "outputs": [],
   "source": [
    "arr = np.arange(10_000_000)\n",
    "print(arr)"
   ]
  },
  {
   "cell_type": "code",
   "execution_count": null,
   "metadata": {},
   "outputs": [],
   "source": [
    "print(arr + 1)"
   ]
  },
  {
   "cell_type": "code",
   "execution_count": null,
   "metadata": {},
   "outputs": [],
   "source": [
    "%%timeit\n",
    "arr + 1"
   ]
  },
  {
   "cell_type": "markdown",
   "metadata": {},
   "source": [
    "Как видим, в этой задаче `NumPy` быстрее питоновского `list` в 50 раз!\n",
    "\n",
    "Естественно, к `ndarray` можно не только поэлементно прибавлять числа, но и векторизованно выполнять абсолютно все возможные операции, которые можно применить хотя бы к одному элементу. \n",
    "\n",
    "### Унарные операции с `Ndarray`\n",
    "#### Вычисление противоположного значения"
   ]
  },
  {
   "cell_type": "code",
   "execution_count": null,
   "metadata": {},
   "outputs": [],
   "source": [
    "print(\n",
    "    -np.array([6, 7, -2])\n",
    ")"
   ]
  },
  {
   "cell_type": "markdown",
   "metadata": {},
   "source": [
    "#### Поэлементное побитовое логическое \"не\""
   ]
  },
  {
   "cell_type": "code",
   "execution_count": null,
   "metadata": {},
   "outputs": [],
   "source": [
    "print(\n",
    "    ~np.array([True, False, True])\n",
    ")  # Поэлементное логическое \"НЕ\""
   ]
  },
  {
   "cell_type": "code",
   "execution_count": null,
   "metadata": {},
   "outputs": [],
   "source": [
    "print(\n",
    "    ~np.array([2, 1, 0, -1, -2])\n",
    ")"
   ]
  },
  {
   "cell_type": "markdown",
   "metadata": {},
   "source": [
    "### Операции `Ndarray` с числом"
   ]
  },
  {
   "cell_type": "code",
   "execution_count": null,
   "metadata": {},
   "outputs": [],
   "source": [
    "arr * 3"
   ]
  },
  {
   "cell_type": "code",
   "execution_count": null,
   "metadata": {},
   "outputs": [],
   "source": [
    "arr - 3"
   ]
  },
  {
   "cell_type": "code",
   "execution_count": null,
   "metadata": {},
   "outputs": [],
   "source": [
    "arr ** 6  # В конце происходит переполнение"
   ]
  },
  {
   "cell_type": "code",
   "execution_count": null,
   "metadata": {
    "scrolled": false
   },
   "outputs": [],
   "source": [
    "arr << 3"
   ]
  },
  {
   "cell_type": "code",
   "execution_count": null,
   "metadata": {
    "scrolled": false
   },
   "outputs": [],
   "source": [
    "arr >> 3"
   ]
  },
  {
   "cell_type": "code",
   "execution_count": null,
   "metadata": {},
   "outputs": [],
   "source": [
    "arr | 3"
   ]
  },
  {
   "cell_type": "code",
   "execution_count": null,
   "metadata": {},
   "outputs": [],
   "source": [
    "arr ^ 3"
   ]
  },
  {
   "cell_type": "code",
   "execution_count": null,
   "metadata": {},
   "outputs": [],
   "source": [
    "arr > 3"
   ]
  },
  {
   "cell_type": "code",
   "execution_count": null,
   "metadata": {},
   "outputs": [],
   "source": [
    "arr >= 3"
   ]
  },
  {
   "cell_type": "code",
   "execution_count": null,
   "metadata": {},
   "outputs": [],
   "source": [
    "arr == 2"
   ]
  },
  {
   "cell_type": "code",
   "execution_count": null,
   "metadata": {},
   "outputs": [],
   "source": [
    "arr % 3"
   ]
  },
  {
   "cell_type": "code",
   "execution_count": null,
   "metadata": {},
   "outputs": [],
   "source": [
    "arr // 3"
   ]
  },
  {
   "cell_type": "markdown",
   "metadata": {},
   "source": [
    "Часть операций можно выполнять \"на месте\", если возращаемый `dtype` совпадает с исходным"
   ]
  },
  {
   "cell_type": "code",
   "execution_count": null,
   "metadata": {},
   "outputs": [],
   "source": [
    "arr += 3\n",
    "arr"
   ]
  },
  {
   "cell_type": "code",
   "execution_count": null,
   "metadata": {},
   "outputs": [],
   "source": [
    "arr /= 3   # Нельзя, поскольку возвращается np.ndarray с dtype=np.float64"
   ]
  },
  {
   "cell_type": "code",
   "execution_count": null,
   "metadata": {},
   "outputs": [],
   "source": [
    "arr //= 3  # А вот это уже можно\n",
    "arr"
   ]
  },
  {
   "cell_type": "markdown",
   "metadata": {},
   "source": [
    "### Операции `Ndarray` с другим `Ndarray`\n",
    "\n",
    "Вот этот вопрос уже более сложный.\n",
    "\n",
    "Интуитивно понятно, как будет выглядеть сложение двух массивов с одинаковым атрибутом `shape`: поэлементно.\n",
    "\n",
    "А что если это не так? Допустим, мы хотим сложить матрицу размера `(3, 1)` с матрицей размера `(1, 3)`. Как быть? Тут вступают в силу правила бродкастинга. Нужны эти правила для того, чтобы экономить память при работе с тяжёлыми массивами. Одним из примечательных следствий этих правил является тот факт, что коммутативные поэлементные операции остаются коммутативными и для массивов. Подробнее о них можно почитать [тут](https://docs.scipy.org/doc/numpy/user/basics.broadcasting.html). Примеры бродкастинга будут чуть позже.\n",
    "\n",
    "Также для массивов со взаимокорректными атрибутами `shape` определены матричные умножения (оператор `@`) и даже эйнштейновы свёртки произвольного вида (функция `np.einsum`).\n",
    "\n",
    "#### Векторы"
   ]
  },
  {
   "cell_type": "code",
   "execution_count": null,
   "metadata": {},
   "outputs": [],
   "source": [
    "a = np.array([2, 3, 4])\n",
    "b = np.array([5, 6, 7])\n",
    "print(a)\n",
    "print(b)"
   ]
  },
  {
   "cell_type": "code",
   "execution_count": null,
   "metadata": {},
   "outputs": [],
   "source": [
    "a + b"
   ]
  },
  {
   "cell_type": "code",
   "execution_count": null,
   "metadata": {},
   "outputs": [],
   "source": [
    "a * b"
   ]
  },
  {
   "cell_type": "code",
   "execution_count": null,
   "metadata": {},
   "outputs": [],
   "source": [
    "a / b"
   ]
  },
  {
   "cell_type": "code",
   "execution_count": null,
   "metadata": {},
   "outputs": [],
   "source": [
    "a // b"
   ]
  },
  {
   "cell_type": "code",
   "execution_count": null,
   "metadata": {},
   "outputs": [],
   "source": [
    "a @ b"
   ]
  },
  {
   "cell_type": "markdown",
   "metadata": {},
   "source": [
    "Хотя матричное умножение вектора на вектор не определено, вектор $b$ интерпретируется как $b^T$\n",
    "\n",
    "#### Матрицы"
   ]
  },
  {
   "cell_type": "code",
   "execution_count": null,
   "metadata": {},
   "outputs": [],
   "source": [
    "a = np.array([[2, 3, 4]])\n",
    "b = np.array([[5, 6, 7]])\n",
    "print(a)\n",
    "print(b)"
   ]
  },
  {
   "cell_type": "code",
   "execution_count": null,
   "metadata": {},
   "outputs": [],
   "source": [
    "a + b"
   ]
  },
  {
   "cell_type": "code",
   "execution_count": null,
   "metadata": {},
   "outputs": [],
   "source": [
    "a * b"
   ]
  },
  {
   "cell_type": "code",
   "execution_count": null,
   "metadata": {},
   "outputs": [],
   "source": [
    "a / b"
   ]
  },
  {
   "cell_type": "code",
   "execution_count": null,
   "metadata": {},
   "outputs": [],
   "source": [
    "a @ b"
   ]
  },
  {
   "cell_type": "markdown",
   "metadata": {},
   "source": [
    "Матрицы (даже всего из 1-й строки) перемножать уже нельзя. Поэтому $b$ необходимо явно транспонировать."
   ]
  },
  {
   "cell_type": "code",
   "execution_count": null,
   "metadata": {},
   "outputs": [],
   "source": [
    "c = b.T\n",
    "print(a)\n",
    "print(c)"
   ]
  },
  {
   "cell_type": "code",
   "execution_count": null,
   "metadata": {},
   "outputs": [],
   "source": [
    "a @ c  # Матричное произведение двух матриц"
   ]
  },
  {
   "cell_type": "code",
   "execution_count": null,
   "metadata": {},
   "outputs": [],
   "source": [
    "c @ a"
   ]
  },
  {
   "cell_type": "code",
   "execution_count": null,
   "metadata": {},
   "outputs": [],
   "source": [
    "a * c  # Работает одно из правил бродкастинга"
   ]
  },
  {
   "cell_type": "code",
   "execution_count": null,
   "metadata": {},
   "outputs": [],
   "source": [
    "a_broadcasted = np.array(\n",
    "    [[2, 3, 4],\n",
    "     [2, 3, 4],\n",
    "     [2, 3, 4]]\n",
    ")\n",
    "\n",
    "c_broadcasted = np.array(\n",
    "    [[5, 5, 5],\n",
    "     [6, 6, 6],\n",
    "     [7, 7, 7]]\n",
    ")\n",
    "\n",
    "a * c == a_broadcasted * c_broadcasted  # Результат аналогичен тому, как если бы мы явно расширили матрицы\n",
    "                                        # до одинакового `shape`"
   ]
  },
  {
   "cell_type": "markdown",
   "metadata": {},
   "source": [
    "Как видим, при бродкастинге массивы \"расширяются\" так, чтобы соответствовать друг другу по атрибуту `shape`.\n",
    "\n",
    "Кавычки тут потому, что, на самом деле, физического расширения не происходит, и забродкастченные массивы не потребляют больше памяти.\n",
    "\n",
    "В нашем случае матрица `a` расширяется до 3-х строчной матрицы с одинаковыми строками,\n",
    "\n",
    "А матрица `c` &mdash; до 3-х столбчатой с одинаковыми столбцами."
   ]
  },
  {
   "cell_type": "code",
   "execution_count": null,
   "metadata": {},
   "outputs": [],
   "source": [
    "a + c  # То же самое"
   ]
  },
  {
   "cell_type": "code",
   "execution_count": null,
   "metadata": {},
   "outputs": [],
   "source": [
    "c * a"
   ]
  },
  {
   "cell_type": "markdown",
   "metadata": {},
   "source": [
    "Видим, что для ассоциативных поэлементных операций ассоциативность сохраняется и в случае работы с матрицами"
   ]
  },
  {
   "cell_type": "code",
   "execution_count": null,
   "metadata": {},
   "outputs": [],
   "source": [
    "a = np.array(\n",
    "    [[2, 3, 4],\n",
    "     [5, 6, 7]]\n",
    ")\n",
    "b = np.array(\n",
    "    [[ 8,  9, 10],\n",
    "     [11, 12, 13],\n",
    "     [14, 15, 16]]\n",
    ")"
   ]
  },
  {
   "cell_type": "code",
   "execution_count": null,
   "metadata": {},
   "outputs": [],
   "source": [
    "a @ [-1, 2, 7]"
   ]
  },
  {
   "cell_type": "code",
   "execution_count": null,
   "metadata": {},
   "outputs": [],
   "source": [
    "a @ b"
   ]
  },
  {
   "cell_type": "code",
   "execution_count": null,
   "metadata": {},
   "outputs": [],
   "source": [
    "b @ a  # Ошибка"
   ]
  },
  {
   "cell_type": "code",
   "execution_count": null,
   "metadata": {},
   "outputs": [],
   "source": [
    "np.einsum('ij,kj->jk', a, b)  # Пример нетривиальной свёртки индексов"
   ]
  },
  {
   "cell_type": "code",
   "execution_count": null,
   "metadata": {},
   "outputs": [],
   "source": [
    "a = np.array(\n",
    "    [[2, 3, 4],\n",
    "     [5, 6, 7]]\n",
    ")\n",
    "b = np.array(\n",
    "    [[ 8,  9, 10],\n",
    "     [11, 12, 13]]\n",
    ")"
   ]
  },
  {
   "cell_type": "code",
   "execution_count": null,
   "metadata": {},
   "outputs": [],
   "source": [
    "a * b == b * a          # Проверим коммутативность"
   ]
  },
  {
   "cell_type": "code",
   "execution_count": null,
   "metadata": {},
   "outputs": [],
   "source": [
    "np.all(a * b == b * a)  # Для проверки полного, а не только поэлеметного совпадения"
   ]
  },
  {
   "cell_type": "code",
   "execution_count": null,
   "metadata": {},
   "outputs": [],
   "source": [
    "np.all(\n",
    "    np.multiply(a, b) == np.multiply(b, a)  # То же самое, что и `a * b`\n",
    ")"
   ]
  },
  {
   "cell_type": "code",
   "execution_count": null,
   "metadata": {},
   "outputs": [],
   "source": [
    "np.any(a * b == b * a)  # Проверка хотя бы одного совпадения"
   ]
  },
  {
   "cell_type": "markdown",
   "metadata": {},
   "source": [
    "#### Внешнее произведение $u_iv_j=a_{ij}$"
   ]
  },
  {
   "cell_type": "code",
   "execution_count": null,
   "metadata": {},
   "outputs": [],
   "source": [
    "u = np.linspace(1, 2, 2)\n",
    "v = np.linspace(2, 4, 3)\n",
    "print(u)\n",
    "print(v)"
   ]
  },
  {
   "cell_type": "code",
   "execution_count": null,
   "metadata": {},
   "outputs": [],
   "source": [
    "print(\n",
    "    np.outer(u, v)\n",
    ")"
   ]
  },
  {
   "cell_type": "markdown",
   "metadata": {},
   "source": [
    "#### Скалярное произведение $u_iv_i = a$"
   ]
  },
  {
   "cell_type": "code",
   "execution_count": null,
   "metadata": {},
   "outputs": [],
   "source": [
    "np.inner([2, 3, 4], [3, 5, 6])"
   ]
  },
  {
   "cell_type": "code",
   "execution_count": null,
   "metadata": {},
   "outputs": [],
   "source": [
    "np.dot([2, 3, 4], [3, 5, 6])"
   ]
  },
  {
   "cell_type": "markdown",
   "metadata": {},
   "source": [
    "Отличия проявляются для массивов большей размерности. В чём оно состоит &mdash; читайте документацию."
   ]
  },
  {
   "cell_type": "markdown",
   "metadata": {},
   "source": [
    "### Внутренние функции `NumPy` (так называемые `ufunc`) уже векторизованы\n",
    "Например"
   ]
  },
  {
   "cell_type": "code",
   "execution_count": null,
   "metadata": {},
   "outputs": [],
   "source": [
    "np.sin(343), np.sqrt(34)"
   ]
  },
  {
   "cell_type": "code",
   "execution_count": null,
   "metadata": {},
   "outputs": [],
   "source": [
    "np.sin(arr)"
   ]
  },
  {
   "cell_type": "code",
   "execution_count": null,
   "metadata": {},
   "outputs": [],
   "source": [
    "np.sqrt(arr)"
   ]
  },
  {
   "cell_type": "markdown",
   "metadata": {},
   "source": [
    "### Функции можно явно векторизовать\n",
    "\n",
    "Хотя и не очень эффективно по скорости, по сравнению с \"родными\" функциями `NumPy`"
   ]
  },
  {
   "cell_type": "code",
   "execution_count": null,
   "metadata": {},
   "outputs": [],
   "source": [
    "def my_func(x):\n",
    "    return hash(x) / 3\n",
    "\n",
    "my_func(arr)"
   ]
  },
  {
   "cell_type": "code",
   "execution_count": null,
   "metadata": {},
   "outputs": [],
   "source": [
    "# Исправим эту ошибку\n",
    "my_func_vectorized = np.vectorize(my_func)\n",
    "my_func_vectorized(arr)"
   ]
  },
  {
   "cell_type": "markdown",
   "metadata": {},
   "source": [
    "## Расчёт различных статистик `ndarray`\n",
    "\n",
    "### Нативные возможности `NumPy`\n",
    "\n",
    "Этот класс имеет большое число методов, позволяющих удобно и очень быстро рассчитать различные статистические параметры массива.\n",
    "\n",
    "Полный список методов и атрибутов класса можно узнать так:"
   ]
  },
  {
   "cell_type": "code",
   "execution_count": null,
   "metadata": {
    "scrolled": false
   },
   "outputs": [],
   "source": [
    "with open(to_data_dir('ndarray_members.txt'), 'w') as out:\n",
    "    out.write(\n",
    "        '\\n'.join(\n",
    "            sorted(\n",
    "                set(dir(np.ndarray)) - set(dir(object))\n",
    "            )\n",
    "        )\n",
    "    )"
   ]
  },
  {
   "cell_type": "markdown",
   "metadata": {},
   "source": [
    "Обычно их названия говорят сами за себя.\n",
    "\n",
    "Но если вам нужно что-то конкретное, например, `стандартное отклонение`, лучше пользоваться гуглом.\n",
    "\n",
    "К сожалению, прогерские запросы, сформулированные на русском языке, гугл (как и Яндекс) ищет очень плохо.\n",
    "\n",
    "Поэтому если вы хотите эффективно решать ваши задачи, то придётся **выучить английский** :(\n",
    "\n",
    "Запросы обычно составляются подобным образом:\n",
    "\n",
    "`How to calculate standard deviation using Numpy`\n",
    "\n",
    "Ответом на хорошо составленный запрос обычно является обсуждение похожего вопроса на сайте **`StackOverflow`** с подробным решением проблемы (или на каком-нибудь другом ресурсе на движке `StackExchange`).\n",
    "\n",
    "#### Одномерный случай"
   ]
  },
  {
   "cell_type": "code",
   "execution_count": null,
   "metadata": {},
   "outputs": [],
   "source": [
    "arr = np.arange(10)\n",
    "print(arr)"
   ]
  },
  {
   "cell_type": "code",
   "execution_count": null,
   "metadata": {},
   "outputs": [],
   "source": [
    "arr.std()"
   ]
  },
  {
   "cell_type": "code",
   "execution_count": null,
   "metadata": {},
   "outputs": [],
   "source": [
    "arr.mean()"
   ]
  },
  {
   "cell_type": "code",
   "execution_count": null,
   "metadata": {},
   "outputs": [],
   "source": [
    "arr.argmax()"
   ]
  },
  {
   "cell_type": "code",
   "execution_count": null,
   "metadata": {},
   "outputs": [],
   "source": [
    "arr.cumsum()"
   ]
  },
  {
   "cell_type": "code",
   "execution_count": null,
   "metadata": {},
   "outputs": [],
   "source": [
    "arr.cumprod()"
   ]
  },
  {
   "cell_type": "code",
   "execution_count": null,
   "metadata": {},
   "outputs": [],
   "source": [
    "arr[1:].cumprod()"
   ]
  },
  {
   "cell_type": "code",
   "execution_count": null,
   "metadata": {},
   "outputs": [],
   "source": [
    "z_score = (arr - arr.mean()) / arr.std()\n",
    "print(z_score)"
   ]
  },
  {
   "cell_type": "code",
   "execution_count": null,
   "metadata": {},
   "outputs": [],
   "source": [
    "np.mean(arr)  # Аналог метода mean"
   ]
  },
  {
   "cell_type": "markdown",
   "metadata": {},
   "source": [
    "#### Двумерный случай"
   ]
  },
  {
   "cell_type": "code",
   "execution_count": null,
   "metadata": {},
   "outputs": [],
   "source": [
    "arr = np.array(\n",
    "    [[1, 1, 1],\n",
    "     [4, 5, 6],\n",
    "     [7, 8, 9]]\n",
    ")"
   ]
  },
  {
   "cell_type": "code",
   "execution_count": null,
   "metadata": {},
   "outputs": [],
   "source": [
    "arr.mean()      # Среднее по всем элементам"
   ]
  },
  {
   "cell_type": "code",
   "execution_count": null,
   "metadata": {},
   "outputs": [],
   "source": [
    "arr.std()       # Аналогично"
   ]
  },
  {
   "cell_type": "code",
   "execution_count": null,
   "metadata": {},
   "outputs": [],
   "source": [
    "np.median(arr)  # Аналогично"
   ]
  },
  {
   "cell_type": "markdown",
   "metadata": {},
   "source": [
    "А что если мы хотим посчитать статистику для каждой строки или вектора?"
   ]
  },
  {
   "cell_type": "code",
   "execution_count": null,
   "metadata": {},
   "outputs": [],
   "source": [
    "print(arr.mean(axis=1))  # По строкам\n",
    "print(arr.std(axis=1))"
   ]
  },
  {
   "cell_type": "markdown",
   "metadata": {},
   "source": [
    "У аргумента `axis` в функциях и методах `NumPy` есть один простой смысл: он обозначает номер схлопывающегося измерения.\n",
    "\n",
    "В случае выше `axis=1`. Это значит, что мы хотим схлопнуть столбцы:\n",
    "\n",
    "```\n",
    "[[1, 2, 3],         [a_0,\n",
    " [4, 5, 6],    ->    a_1,\n",
    " [7, 8, 9]]          a_2]\n",
    "```\n",
    "\n",
    "То есть `mean` будет считаться для каждой строки.\n",
    "\n",
    "В случае с `axis=0` cхема будет такая:\n",
    "\n",
    "```\n",
    "[[1, 2, 3],\n",
    " [4, 5, 6],    ->    [a_0, a_1, a_2]\n",
    " [7, 8, 9]]\n",
    "```\n",
    "\n",
    "Об этом правиле хорошо помнить при работе с массивами большой размерности."
   ]
  },
  {
   "cell_type": "code",
   "execution_count": null,
   "metadata": {},
   "outputs": [],
   "source": [
    "print(arr.mean(axis=0))  # Аналогично среднее для столбцов"
   ]
  },
  {
   "cell_type": "markdown",
   "metadata": {},
   "source": [
    "#### Многомерный случай\n",
    "Вынос мозга"
   ]
  },
  {
   "cell_type": "code",
   "execution_count": null,
   "metadata": {},
   "outputs": [],
   "source": [
    "arr = np.arange(16)\n",
    "print(arr)"
   ]
  },
  {
   "cell_type": "code",
   "execution_count": null,
   "metadata": {},
   "outputs": [],
   "source": [
    "arr = arr.reshape(2, 2, -1, 2)\n",
    "print(arr)"
   ]
  },
  {
   "cell_type": "code",
   "execution_count": null,
   "metadata": {},
   "outputs": [],
   "source": [
    "print(arr.mean(axis=2))       # Среднее по парам строка + столбец (схлопывание второго измерения)"
   ]
  },
  {
   "cell_type": "code",
   "execution_count": null,
   "metadata": {},
   "outputs": [],
   "source": [
    "print(arr.mean(axis=(0, 2)))  # Среднее по столбцам (схлопывание плоскости)"
   ]
  },
  {
   "cell_type": "code",
   "execution_count": null,
   "metadata": {},
   "outputs": [],
   "source": [
    "arr = np.arange(32).reshape(2, 2, 2, -1, 2, 2)  # 6-тензор\n",
    "print(\n",
    "    arr.mean(\n",
    "        axis=(0, 1, 3)\n",
    "    )\n",
    ")\n",
    "# Среднее по уникальным значениям индекса 2-го, 4-го и 5-го измерений при нумерации с нуля\n",
    "# (схлопывание гиперплоскости)"
   ]
  },
  {
   "cell_type": "markdown",
   "metadata": {},
   "source": [
    "## Линейная алгебра"
   ]
  },
  {
   "cell_type": "code",
   "execution_count": null,
   "metadata": {},
   "outputs": [],
   "source": [
    "import numpy.linalg as linalg\n",
    "\n",
    "\n",
    "arr = np.array(\n",
    "    [[1, 2, 3],\n",
    "     [4, 5, 6],\n",
    "     [7, 8, 10]]\n",
    ")"
   ]
  },
  {
   "cell_type": "code",
   "execution_count": null,
   "metadata": {},
   "outputs": [],
   "source": [
    "arr.trace()  # След матрицы"
   ]
  },
  {
   "cell_type": "code",
   "execution_count": null,
   "metadata": {},
   "outputs": [],
   "source": [
    "eigvals, eigvectors = linalg.eig(arr)  # Собственные значения и соответсвтующие собственные векторы\n",
    "print(f'Eigen values:   {eigvals}\\n')\n",
    "print(f'Eigen vectors:\\n\\n{eigvectors}')"
   ]
  },
  {
   "cell_type": "markdown",
   "metadata": {},
   "source": [
    "Решение линейной системы уравнений $\\large y=Ax$"
   ]
  },
  {
   "cell_type": "code",
   "execution_count": null,
   "metadata": {},
   "outputs": [],
   "source": [
    "y = [0.5, 2, -3]\n",
    "\n",
    "x = linalg.solve(arr, y)\n",
    "print(x)"
   ]
  },
  {
   "cell_type": "code",
   "execution_count": null,
   "metadata": {},
   "outputs": [],
   "source": [
    "diff = arr @ x - y\n",
    "print(diff)"
   ]
  },
  {
   "cell_type": "code",
   "execution_count": null,
   "metadata": {},
   "outputs": [],
   "source": [
    "linalg.det(arr)          # Детерминант"
   ]
  },
  {
   "cell_type": "code",
   "execution_count": null,
   "metadata": {},
   "outputs": [],
   "source": [
    "linalg.matrix_rank(arr)  # Ранг"
   ]
  },
  {
   "cell_type": "markdown",
   "metadata": {},
   "source": [
    "## Генератор случайных чисел"
   ]
  },
  {
   "cell_type": "code",
   "execution_count": null,
   "metadata": {},
   "outputs": [],
   "source": [
    "import numpy.random as rnd\n",
    "\n",
    "rnd.seed(229)      # Фиксация состояния генератора для воспроизводимости результатов"
   ]
  },
  {
   "cell_type": "code",
   "execution_count": null,
   "metadata": {},
   "outputs": [],
   "source": [
    "rnd.rand(2, 4)     # Матрица случайных значений в [0, 1)"
   ]
  },
  {
   "cell_type": "code",
   "execution_count": null,
   "metadata": {},
   "outputs": [],
   "source": [
    "rnd.rand(2)        # Вектор"
   ]
  },
  {
   "cell_type": "code",
   "execution_count": null,
   "metadata": {},
   "outputs": [],
   "source": [
    "rnd.rand(2, 2, 5)  # Тензор"
   ]
  },
  {
   "cell_type": "code",
   "execution_count": null,
   "metadata": {},
   "outputs": [],
   "source": [
    "arr = np.arange(10000)\n",
    "print(arr)"
   ]
  },
  {
   "cell_type": "code",
   "execution_count": null,
   "metadata": {},
   "outputs": [],
   "source": [
    "with_repl = rnd.choice(arr, size=3000)                 # Случайная выборка из вектора с возвращением\n",
    "print(with_repl)"
   ]
  },
  {
   "cell_type": "code",
   "execution_count": null,
   "metadata": {},
   "outputs": [],
   "source": [
    "no_repl = rnd.choice(arr, size=3000, replace=False)    # Случайная выборка из вектора без возвращения\n",
    "print(no_repl)"
   ]
  },
  {
   "cell_type": "code",
   "execution_count": null,
   "metadata": {},
   "outputs": [],
   "source": [
    "with_repl_unique = np.unique(with_repl)\n",
    "no_repl_unique =   np.unique(no_repl)\n",
    "print(no_repl_unique)"
   ]
  },
  {
   "cell_type": "code",
   "execution_count": null,
   "metadata": {},
   "outputs": [],
   "source": [
    "len(no_repl_unique) - len(with_repl_unique)"
   ]
  },
  {
   "cell_type": "code",
   "execution_count": null,
   "metadata": {},
   "outputs": [],
   "source": [
    "print(rnd.random_integers(0, 20, size=100))"
   ]
  },
  {
   "cell_type": "code",
   "execution_count": null,
   "metadata": {},
   "outputs": [],
   "source": [
    "print(rnd.normal(100, 3, size=100))\n",
    "# Выборка из нормального распределения с центром в 100 и стандартным отклонением 3"
   ]
  },
  {
   "cell_type": "markdown",
   "metadata": {},
   "source": [
    "[И так далее...](https://docs.scipy.org/doc/numpy-1.15.0/reference/routines.random.html)"
   ]
  },
  {
   "cell_type": "markdown",
   "metadata": {},
   "source": [
    "# Библиотека scipy (модуль scipy.stats)\n",
    "\n",
    "Нам пригодится только модуль `scipy.stats`.\n",
    "Полное описание можно [тут](http://docs.scipy.org/doc/scipy/reference/stats.html).\n",
    "\n",
    "Описание этой части разработал Никита Волков."
   ]
  },
  {
   "cell_type": "code",
   "execution_count": 5,
   "metadata": {},
   "outputs": [],
   "source": [
    "import scipy.stats as sps"
   ]
  },
  {
   "cell_type": "markdown",
   "metadata": {},
   "source": [
    "<b>Общий принцип:</b>\n",
    "\n",
    "$X$ — некоторое распределение с параметрами `params`\n",
    "\n",
    "\n",
    "* `X.rvs(size=N, params)` — генерация выборки размера $N$ (<b>R</b>andom <b>V</b>ariate<b>S</b>). Возвращает `numpy.ndarray`\n",
    "* `X.cdf(x, params)` — значение функции распределения в точке $x$ (<b>C</b>umulative <b>D</b>istribution <b>F</b>unction)\n",
    "* `X.logcdf(x, params)` — значение логарифма функции распределения в точке $x$\n",
    "* `X.ppf(q, params)` — $q$-квантиль (<b>P</b>ercent <b>P</b>oint <b>F</b>unction)\n",
    "* `X.mean(params)` — математическое ожидание\n",
    "* `X.median(params)` — медиана\n",
    "* `X.var(params)` — дисперсия (<b>Var</b>iance)\n",
    "* `X.std(params)` — стандартное отклонение = корень из дисперсии (<b>St</b>andard <b>D</b>eviation)\n",
    "\n",
    "Кроме того для непрерывных распределений определены функции\n",
    "* `X.pdf(x, params)` — значение плотности в точке $x$ (<b>P</b>robability <b>D</b>ensity <b>F</b>unction)\n",
    "* `X.logpdf(x, params)` — значение логарифма плотности в точке $x$\n",
    "\n",
    "А для дискретных\n",
    "* `X.pmf(k, params)` — значение дискретной плотности в точке $k$ (<b>P</b>robability <b>M</b>ass <b>F</b>unction)\n",
    "* `X.logpdf(k, params)` — значение логарифма дискретной плотности в точке $k$\n",
    "\n",
    "\n",
    "Параметры могут быть следующими:\n",
    "* `loc` — параметр сдвига\n",
    "* `scale` — параметр масштаба\n",
    "* и другие параметры (например, $n$ и $p$ для биномиального)"
   ]
  },
  {
   "cell_type": "markdown",
   "metadata": {},
   "source": [
    "Для примера сгенерируем выборку размера $N = 200$ из распределения $\\mathscr{N}(1, 9)$ и посчитаем некоторые статистики.\n",
    "В терминах выше описанных функций у нас $X$ = `sps.norm`, а `params` = (`loc=1, scale=3`)."
   ]
  },
  {
   "cell_type": "code",
   "execution_count": 6,
   "metadata": {},
   "outputs": [
    {
     "name": "stdout",
     "output_type": "stream",
     "text": [
      "Первые 10 значений выборки:\n",
      "[-3.51886816  1.75714336  2.43044191  0.15035419 -0.65252034  1.30740647\n",
      "  3.82491824 -0.23975128  3.31552705 -2.10415509]\n",
      "Выборочное среднее: 0.617\n",
      "Выборочная дисперсия: 8.62\n"
     ]
    }
   ],
   "source": [
    "sample = sps.norm.rvs(size=200, loc=1, scale=3)\n",
    "print(\n",
    "    f'Первые 10 значений выборки:\\n{sample[:10]}\\n'\n",
    "    f'Выборочное среднее: {sample.mean():.3}\\n'\n",
    "    f'Выборочная дисперсия: {sample.var():.3}'\n",
    ")"
   ]
  },
  {
   "cell_type": "code",
   "execution_count": 7,
   "metadata": {},
   "outputs": [
    {
     "name": "stdout",
     "output_type": "stream",
     "text": [
      "Плотность:\t\t [0.10648267 0.12579441 0.13298076 0.12579441 0.10648267]\n",
      "Функция распределения:\t [0.25249254 0.36944134 0.5        0.63055866 0.74750746]\n"
     ]
    }
   ],
   "source": [
    "print(\n",
    "    'Плотность:\\t\\t', \n",
    "    sps.norm.pdf([-1, 0, 1, 2, 3], loc=1, scale=3)\n",
    ")\n",
    "print(\n",
    "    'Функция распределения:\\t', \n",
    "    sps.norm.cdf([-1, 0, 1, 2, 3], loc=1, scale=3)\n",
    ")"
   ]
  },
  {
   "cell_type": "code",
   "execution_count": 8,
   "metadata": {},
   "outputs": [
    {
     "name": "stdout",
     "output_type": "stream",
     "text": [
      "Квантили: [-3.93456088 -2.8446547   1.          4.8446547   5.93456088]\n"
     ]
    }
   ],
   "source": [
    "print(\n",
    "    'Квантили:', \n",
    "    sps.norm.ppf([0.05, 0.1, 0.5, 0.9, 0.95], loc=1, scale=3)\n",
    ")"
   ]
  },
  {
   "cell_type": "markdown",
   "metadata": {},
   "source": [
    "Cгенерируем выборку размера $N = 200$ из распределения $Bin(10, 0.6)$ и посчитаем некоторые статистики.\n",
    "В терминах выше описанных функций у нас $X$ = `sps.binom`, а `params` = (`n=10, p=0.6`)."
   ]
  },
  {
   "cell_type": "code",
   "execution_count": 9,
   "metadata": {},
   "outputs": [
    {
     "name": "stdout",
     "output_type": "stream",
     "text": [
      "Первые 10 значений выборки:\n",
      "[ 7  9  6  6  5  5  6 10  6  8]\n",
      "Выборочное среднее: 6.03\n",
      "Выборочная дисперсия: 2.41\n"
     ]
    }
   ],
   "source": [
    "sample = sps.binom.rvs(size=200, n=10, p=0.6)\n",
    "print(\n",
    "    f'Первые 10 значений выборки:\\n{sample[:10]}\\n'\n",
    "    f'Выборочное среднее: {sample.mean():.3}\\n'\n",
    "    f'Выборочная дисперсия: {sample.var():.3}'\n",
    ")"
   ]
  },
  {
   "cell_type": "code",
   "execution_count": 10,
   "metadata": {},
   "outputs": [
    {
     "name": "stdout",
     "output_type": "stream",
     "text": [
      "Дискретная плотность:\t [0.00000000e+00 1.04857600e-04 2.00658125e-01 0.00000000e+00\n",
      " 6.04661760e-03]\n",
      "Функция распределения:\t [0.00000000e+00 1.04857600e-04 3.66896742e-01 3.66896742e-01\n",
      " 1.00000000e+00]\n"
     ]
    }
   ],
   "source": [
    "print(\n",
    "    'Дискретная плотность:\\t', \n",
    "    sps.binom.pmf([-1, 0, 5, 5.5, 10], n=10, p=0.6)\n",
    ")\n",
    "print(\n",
    "    'Функция распределения:\\t', \n",
    "    sps.binom.cdf([-1, 0, 5, 5.5, 10], n=10, p=0.6)\n",
    ")"
   ]
  },
  {
   "cell_type": "code",
   "execution_count": 11,
   "metadata": {},
   "outputs": [
    {
     "name": "stdout",
     "output_type": "stream",
     "text": [
      "Квантили: [3. 4. 6. 8. 8.]\n"
     ]
    }
   ],
   "source": [
    "print('Квантили:', sps.binom.ppf([0.05, 0.1, 0.5, 0.9, 0.95], n=10, p=0.6))"
   ]
  },
  {
   "cell_type": "markdown",
   "metadata": {},
   "source": [
    "Отдельно есть класс для <b>многомерного нормального распределения</b>.\n",
    "Для примера сгенерируем выборку размера $N=200$ из распределения $\\mathscr{N} \\left( \\begin{pmatrix} 1 \\\\ 1 \\end{pmatrix},  \\begin{pmatrix} 2 & 1 \\\\ 1 & 2 \\end{pmatrix} \\right)$."
   ]
  },
  {
   "cell_type": "code",
   "execution_count": 116,
   "metadata": {},
   "outputs": [
    {
     "name": "stdout",
     "output_type": "stream",
     "text": [
      "Первые 10 значений выборки:\n",
      "[[-1.68795544 -1.82663282]\n",
      " [-3.41927706 -1.75460574]\n",
      " [ 0.81465365  1.82617076]\n",
      " [ 1.3119804   4.2465496 ]\n",
      " [ 1.00227201  1.22947145]\n",
      " [ 0.27804298  0.61786244]\n",
      " [-0.13283891  0.28947264]\n",
      " [-1.32161936 -0.44778169]\n",
      " [ 0.17075608 -1.42923428]\n",
      " [ 0.95248044  0.5608874 ]]\n",
      "Выборочное среднее: [0.94658937 0.96256125]\n",
      "Выборочная матрица ковариаций:\n",
      "[[2.05762629 0.99713035]\n",
      " [0.99713035 2.202846  ]]\n"
     ]
    }
   ],
   "source": [
    "sample = sps.multivariate_normal.rvs(mean=[1, 1], cov=[[2, 1], [1, 2]], size=200)\n",
    "print(\n",
    "    f'Первые 10 значений выборки:\\n{sample[:10]}\\n'\n",
    "    f'Выборочное среднее: {sample.mean(axis=0)}\\n'\n",
    "    f'Выборочная матрица ковариаций:\\n{np.cov(sample.T)}'\n",
    ")"
   ]
  },
  {
   "cell_type": "markdown",
   "metadata": {},
   "source": [
    "Некоторая хитрость :)"
   ]
  },
  {
   "cell_type": "code",
   "execution_count": 117,
   "metadata": {},
   "outputs": [
    {
     "name": "stdout",
     "output_type": "stream",
     "text": [
      "[0.1503207  1.08849097 1.97476546 3.10189605 4.09577026 5.15264691\n",
      " 5.99477096 7.0869838  8.03246376 9.04664461]\n"
     ]
    }
   ],
   "source": [
    "sample = sps.norm.rvs(size=10, loc=range(10), scale=0.1)\n",
    "print(sample)"
   ]
  },
  {
   "cell_type": "markdown",
   "metadata": {},
   "source": [
    "Бывает так, что <b>надо сгенерировать выборку из распределения, которого нет в `scipy.stats`</b>.\n",
    "Для этого надо создать класс, который будет наследоваться от класса `rv_continuous` для непрерывных случайных величин и от класса `rv_discrete` для дискретных случайных величин.\n",
    "Пример есть на [странице](http://docs.scipy.org/doc/scipy/reference/generated/scipy.stats.rv_continuous.html#scipy.stats.rv_continuous).\n",
    "\n",
    "Для примера сгенерируем выборку из распределения с плотностью $f(x) = \\frac{4}{15} x^3 I\\{x \\in [1, 2] = [a, b]\\}$."
   ]
  },
  {
   "cell_type": "code",
   "execution_count": null,
   "metadata": {},
   "outputs": [],
   "source": [
    "class cubic_gen(sps.rv_continuous):\n",
    "    def _pdf(self, x):\n",
    "        return 4 * x ** 3 / 15\n",
    "\n",
    "\n",
    "cubic = cubic_gen(a=1, b=2, name='cubic')\n",
    "\n",
    "sample = cubic.rvs(size=200)\n",
    "print(\n",
    "    f'Первые 10 значений выборки:\\n{sample[:10]}\\n'\n",
    "    f'Выборочное среднее: {sample.mean():.3}\\n'\n",
    "    f'Выборочная дисперсия: {sample.var():.3}'\n",
    ")"
   ]
  },
  {
   "cell_type": "markdown",
   "metadata": {},
   "source": [
    "Если дискретная случайная величина может принимать небольшое число значений, то можно не создавать новый класс, как показано выше, а явно указать эти значения и из вероятности."
   ]
  },
  {
   "cell_type": "code",
   "execution_count": null,
   "metadata": {},
   "outputs": [],
   "source": [
    "some_distribution = sps.rv_discrete(\n",
    "    name='some_distribution', \n",
    "    values=(\n",
    "        [1, 2, 3],       # Значения\n",
    "        [0.6, 0.1, 0.3]  # Вероятности\n",
    "    )\n",
    ")\n",
    "\n",
    "sample = some_distribution.rvs(size=200)\n",
    "print(\n",
    "    f'Первые 10 значений выборки:\\n{sample[:10]}\\n'\n",
    "    f'Выборочное среднее: {sample.mean():.3}\\n'\n",
    "    'Частота значений по выборке:',\n",
    "    (sample == 1).mean(),\n",
    "    (sample == 2).mean(),\n",
    "    (sample == 3).mean()\n",
    ")"
   ]
  },
  {
   "cell_type": "markdown",
   "metadata": {},
   "source": [
    "<div style=\"text-align: right\"><i>Подготовил <a href=\"https://github.com/andrewsonin\">Андрей Сонин</a>"
   ]
  }
 ],
 "metadata": {
  "kernelspec": {
   "display_name": "Python 3",
   "language": "python",
   "name": "python3"
  },
  "language_info": {
   "codemirror_mode": {
    "name": "ipython",
    "version": 3
   },
   "file_extension": ".py",
   "mimetype": "text/x-python",
   "name": "python",
   "nbconvert_exporter": "python",
   "pygments_lexer": "ipython3",
   "version": "3.7.3"
  }
 },
 "nbformat": 4,
 "nbformat_minor": 4
}
