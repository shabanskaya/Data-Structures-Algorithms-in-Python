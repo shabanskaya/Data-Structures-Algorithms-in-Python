{
 "cells": [
  {
   "cell_type": "markdown",
   "metadata": {},
   "source": [
    "---\n",
    "\n",
    "### Уникальные элементы"
   ]
  },
  {
   "cell_type": "code",
   "execution_count": 60,
   "metadata": {},
   "outputs": [
    {
     "name": "stdout",
     "output_type": "stream",
     "text": [
      "введите через пробел первый спикок 1 2 3\n",
      "теперь второй 1 3 5 6\n",
      "уникальных в певром:  3 , уникальных во втором:  4 , уникальных всего:  2\n"
     ]
    }
   ],
   "source": [
    "a = list(map(int, input(\"введите через пробел первый спикок \").split()))\n",
    "b = list(map(int, input(\"теперь второй \").split()))\n",
    "a1 = set()\n",
    "for e in a:\n",
    "    a1.add(e)\n",
    "b1 = set()\n",
    "for e in b:\n",
    "    b1.add(e)\n",
    "una = len(a1)\n",
    "unb = len(b1)\n",
    "unab = len(a1&b1)\n",
    "print(\"уникальных в певром: \", una, \", уникальных во втором: \", unb,\", уникальных всего: \", unab)"
   ]
  },
  {
   "cell_type": "markdown",
   "metadata": {},
   "source": [
    "---\n",
    "\n",
    "### Студенты"
   ]
  },
  {
   "cell_type": "code",
   "execution_count": 9,
   "metadata": {},
   "outputs": [
    {
     "name": "stdout",
     "output_type": "stream",
     "text": [
      "введите через пробел французов, пж-та... a\n",
      "пианистов... a\n",
      "и пловцов a\n",
      "\n",
      "Не могу найти пловцов-пианистов, не изучающих французский\n"
     ]
    }
   ],
   "source": [
    "learners_french = set(map(str, input(\"введите через пробел французов, пж-та... \").split()))\n",
    "pianists = set(map(str, input(\"пианистов... \").split()))\n",
    "swimmers = set(map(str, input(\"и пловцов \").split()))\n",
    "\n",
    "a = (pianists & swimmers) - learners_french\n",
    "print(*a)\n",
    "if len(a) == 0:\n",
    "    print(\"Не могу найти пловцов-пианистов, не изучающих французский\")"
   ]
  },
  {
   "cell_type": "markdown",
   "metadata": {},
   "source": [
    "---\n",
    "\n",
    "### Уже встречался!\n",
    "- Вводим через enter числа и радуемся, что программа говорит, было ли уже в нашем списке такое число \n",
    "- Чтобы завершить - вводим 'exit'"
   ]
  },
  {
   "cell_type": "code",
   "execution_count": 24,
   "metadata": {},
   "outputs": [
    {
     "name": "stdout",
     "output_type": "stream",
     "text": [
      "1\n",
      "1 еще не было\n",
      "2\n",
      "2 еще не было\n",
      "1\n",
      "1 уже был в списке\n",
      "exit\n"
     ]
    }
   ],
   "source": [
    "a = int(input())\n",
    "print(\"%s еще не было\" % a)\n",
    "s = {a}\n",
    "while True:\n",
    "    b = input()\n",
    "    if b == 'exit':\n",
    "        break\n",
    "    b = int(b)\n",
    "    if b in s:\n",
    "        print(\"%s уже был в списке\" % b)\n",
    "    else:\n",
    "        print(\"%s еще не было\" % b)\n",
    "        s.add(b)\n",
    "    a = b\n",
    "    "
   ]
  },
  {
   "cell_type": "markdown",
   "metadata": {},
   "source": [
    "---\n",
    "\n",
    "### Голосование\n",
    "- Вводим названия фильмов через enter (с повторами, естественно)\n",
    "- Конец списка наименований обозначаем словом \"exit\"\n",
    "- Радуемся правильно посчитанному рейтингу"
   ]
  },
  {
   "cell_type": "code",
   "execution_count": 27,
   "metadata": {},
   "outputs": [
    {
     "name": "stdout",
     "output_type": "stream",
     "text": [
      "введите название фильма: 123\n",
      "введите название фильма: 213\n",
      "введите название фильма: 321\n",
      "введите название фильма: 123\n",
      "введите название фильма: 321\n",
      "введите название фильма: 321\n",
      "введите название фильма: exit\n",
      "за 321 : 3\n",
      "за 123 : 2\n",
      "за 213 : 1\n"
     ]
    }
   ],
   "source": [
    "a = dict()\n",
    "while True:\n",
    "    b = input('введите название фильма: ')\n",
    "    if b == 'exit':\n",
    "        break\n",
    "    elif a.get(b, '*') == '*':\n",
    "        a[b] = 1\n",
    "    else:\n",
    "        a[b] += 1\n",
    "n = len(a)\n",
    "\n",
    "list_d = list(a.items())\n",
    "list_d.sort(key=lambda i: i[1],  reverse=True)\n",
    "\n",
    "for i in list_d:\n",
    "    print(\"за\", i[0], ':', i[1])"
   ]
  },
  {
   "cell_type": "markdown",
   "metadata": {},
   "source": [
    "---\n",
    "\n",
    "### Частотный анализ слов в тексте\n",
    "\n",
    "- Вводим свой текст и получаем рейтинг в порядке возрастания частот слов, его составляющих (без учета заглавных букв и знаков препинания)\n",
    "Например, введите: _Ам э солджа, ам э солджа,\n",
    "Ам э солджа, ам э солджа,\n",
    "Ам э сол-джа, сол-джа,\n",
    "Сол-джа-джа.\n",
    "Ам э солджа, ам э солджа,\n",
    "Ам э солджа, ам э солджа,\n",
    "Ам э сол-джа, сол-джа,\n",
    "Сол-джа-джа._"
   ]
  },
  {
   "cell_type": "code",
   "execution_count": 46,
   "metadata": {},
   "outputs": [
    {
     "name": "stdout",
     "output_type": "stream",
     "text": [
      "Ам э солджа, ам э солджа, Ам э солджа, ам э солджа, Ам э сол-джа, сол-джа, Сол-джа-джа. Ам э солджа, ам э солджа, Ам э солджа, ам э солджа, Ам э сол-джа, сол-джа, Сол-джа-джа.\n",
      "солджаджа 2\n",
      "ам 10\n",
      "э 10\n",
      "солджа 12\n"
     ]
    }
   ],
   "source": [
    "import re\n",
    "s = input()\n",
    "s = re.sub('[!?,.:;\\\"\\(\\)\\'\\-]', '', s)\n",
    "s = s.lower()\n",
    "t = s.split()\n",
    "\n",
    "d = {}\n",
    "for c in t: #считаю\n",
    "    d[c] = d.get(c, 0) + 1 \n",
    "\n",
    "list_d = list(d.items()) #сортирую\n",
    "list_d.sort(key=lambda i: i[1])\n",
    "\n",
    "for i in list_d: #вывожу\n",
    "    print(i[0], i[1])"
   ]
  },
  {
   "cell_type": "markdown",
   "metadata": {},
   "source": [
    "---\n",
    "\n",
    "### Генеалогическое древо\n",
    "- Так как в задаче не прописано, как именно задавать d, то я задала его прямо в программе и сделала вывод нескольких примеров ее работы"
   ]
  },
  {
   "cell_type": "code",
   "execution_count": 59,
   "metadata": {},
   "outputs": [
    {
     "name": "stdout",
     "output_type": "stream",
     "text": [
      "['p1', 'p2']\n",
      "['g11', 'g12', 'g21', 'g22']\n",
      "['c2']\n",
      "['c1', 'c2']\n",
      "['c1', 'c2']\n"
     ]
    }
   ],
   "source": [
    "def parents(d, name):\n",
    "    a = d.get(name)\n",
    "    return(a)\n",
    "\n",
    "def grandparents(d, name):\n",
    "    a = d.get(name)\n",
    "    a1 = d.get(a[0])\n",
    "    a2 = d.get(a[1])\n",
    "    return (a1+a2)\n",
    "\n",
    "def sibling(d, name):\n",
    "    a = d.get(name)\n",
    "    s = []\n",
    "    for k, v in d.items():\n",
    "        if v == a and k != name:\n",
    "            s.append(k)\n",
    "    return s\n",
    "            \n",
    "def children(d, name):\n",
    "    s = []\n",
    "    for k, v in d.items():\n",
    "        if v[0] == name or v[1] == name:\n",
    "            s.append(k)\n",
    "    return s\n",
    "\n",
    "def grandchildren(d, name):\n",
    "    s = children(d, name)\n",
    "    ss = []\n",
    "    for e in s:\n",
    "        ss += children(d, e)\n",
    "    return ss\n",
    "\n",
    "d = {}\n",
    "d['p1'] = ['g11', 'g12']\n",
    "d['p2'] = ['g21', 'g22']\n",
    "d['c1'] = ['p1', 'p2']\n",
    "d['c1'] = ['p1', 'p2']\n",
    "d['c2'] = ['p1', 'p2']\n",
    "d['u1'] = ['g11', 'g12']\n",
    "\n",
    "print(parents(d, 'c1'))\n",
    "print(grandparents(d, 'c1'))\n",
    "print(sibling(d, 'c1'))\n",
    "print(children(d, 'p1'))\n",
    "print(grandchildren(d, 'g11'))\n",
    "\n",
    "\n"
   ]
  },
  {
   "cell_type": "code",
   "execution_count": null,
   "metadata": {},
   "outputs": [],
   "source": []
  }
 ],
 "metadata": {
  "kernelspec": {
   "display_name": "Python 3",
   "language": "python",
   "name": "python3"
  },
  "language_info": {
   "codemirror_mode": {
    "name": "ipython",
    "version": 3
   },
   "file_extension": ".py",
   "mimetype": "text/x-python",
   "name": "python",
   "nbconvert_exporter": "python",
   "pygments_lexer": "ipython3",
   "version": "3.7.3"
  }
 },
 "nbformat": 4,
 "nbformat_minor": 2
}
