{
 "cells": [
  {
   "cell_type": "code",
   "execution_count": 5,
   "metadata": {},
   "outputs": [
    {
     "name": "stdout",
     "output_type": "stream",
     "text": [
      "3 3\n",
      "1 0 0 \n",
      "0 0 0\n",
      "0 0 0\n",
      "0 1 2\n",
      "1 2 3\n",
      "2 3 4\n"
     ]
    }
   ],
   "source": [
    "from collections import deque\n",
    "import itertools\n",
    "\n",
    "n, m = map(int, input().split())\n",
    "\n",
    "a = []\n",
    "\n",
    "for i in range(n):\n",
    "    a.append(list(map(int, input().split())))\n",
    "\n",
    "g = {v : set() for v in itertools.product(range(n), range(m))}\n",
    "\n",
    "for i in range(n):\n",
    "    for j in range(m):\n",
    "        if i-1 >= 0:\n",
    "            g[(i, j)].add((i-1, j))\n",
    "        if i+1 < n:\n",
    "            g[(i, j)].add((i+1, j))\n",
    "        if j-1 >= 0:\n",
    "            g[(i, j)].add((i, j-1))\n",
    "        if j+1 < m:\n",
    "            g[(i, j)].add((i, j+1))\n",
    "\n",
    "d = [[None for i in range(m)] for t in range(n)]\n",
    "\n",
    "\n",
    "def poi(v):\n",
    "    d[v[0]][v[1]] = 0\n",
    "    que = deque([v])\n",
    "    while que:\n",
    "        cur = que.popleft()\n",
    "        for nei_v in g[cur]:\n",
    "            if (d[nei_v[0]][nei_v[1]] is None or d[cur[0]][cur[1]] + 1 < d[nei_v[0]][nei_v[1]]): \n",
    "                d[nei_v[0]][nei_v[1]] = d[cur[0]][cur[1]] + 1\n",
    "                que.append(nei_v)\n",
    "\n",
    "for v in g:\n",
    "    if a[v[0]][v[1]] == 1:\n",
    "        poi(v)\n",
    "            \n",
    "for i in range(n):\n",
    "    print(*d[i])"
   ]
  },
  {
   "cell_type": "code",
   "execution_count": 6,
   "metadata": {},
   "outputs": [
    {
     "name": "stdout",
     "output_type": "stream",
     "text": [
      "Collecting PyQt5==5.10.1\n",
      "\u001b[?25l  Downloading https://files.pythonhosted.org/packages/af/82/a063e4803775225bfe4e51099a2599eecd91eb05e8a586632c783aeb9899/PyQt5-5.10.1-5.10.1-cp35.cp36.cp37.cp38-abi3-macosx_10_6_intel.whl (86.8MB)\n",
      "\u001b[K     |████████████████████████████████| 86.8MB 237kB/s eta 0:00:012   |██                              | 5.2MB 2.5MB/s eta 0:00:33     |████████████████████            | 54.4MB 7.2MB/s eta 0:00:05\n",
      "\u001b[?25hCollecting sip<4.20,>=4.19.4 (from PyQt5==5.10.1)\n",
      "\u001b[?25l  Downloading https://files.pythonhosted.org/packages/76/e2/64bd7b249fb3fe3d225338d0acccaeb34da6a26f72f5eac969ad9c570ea0/sip-4.19.8-cp37-cp37m-macosx_10_6_intel.whl (51kB)\n",
      "\u001b[K     |████████████████████████████████| 61kB 4.3MB/s eta 0:00:01\n",
      "\u001b[31mERROR: spyder 3.3.6 requires pyqtwebengine<5.13; python_version >= \"3\", which is not installed.\u001b[0m\n",
      "\u001b[?25hInstalling collected packages: sip, PyQt5\n",
      "  Found existing installation: PyQt5 5.14.2\n",
      "    Uninstalling PyQt5-5.14.2:\n",
      "      Successfully uninstalled PyQt5-5.14.2\n",
      "Successfully installed PyQt5-5.10.1 sip-4.19.8\n",
      "Note: you may need to restart the kernel to use updated packages.\n"
     ]
    }
   ],
   "source": [
    "pip install PyQt5==5.10.1\n"
   ]
  },
  {
   "cell_type": "code",
   "execution_count": null,
   "metadata": {},
   "outputs": [],
   "source": []
  }
 ],
 "metadata": {
  "kernelspec": {
   "display_name": "Python 3",
   "language": "python",
   "name": "python3"
  },
  "language_info": {
   "codemirror_mode": {
    "name": "ipython",
    "version": 3
   },
   "file_extension": ".py",
   "mimetype": "text/x-python",
   "name": "python",
   "nbconvert_exporter": "python",
   "pygments_lexer": "ipython3",
   "version": "3.7.3"
  }
 },
 "nbformat": 4,
 "nbformat_minor": 2
}
